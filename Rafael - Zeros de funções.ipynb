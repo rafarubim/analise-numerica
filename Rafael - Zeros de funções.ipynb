{
 "cells": [
  {
   "cell_type": "code",
   "execution_count": 32,
   "metadata": {
    "collapsed": false
   },
   "outputs": [
    {
     "name": "stdout",
     "output_type": "stream",
     "text": [
      "(0.18181818181818182, -0.1487603305785124)\n",
      "(0.3076923076923077, -0.21301775147928995)\n",
      "(0.4705882352941176, -0.2491349480968858)\n",
      "(0.64, -0.2304)\n",
      "(0.7804878048780488, -0.17132659131469363)\n",
      "(0.8767123287671232, -0.10808782135485084)\n",
      "(0.9343065693430656, -0.06137780382545699)\n",
      "(0.9660377358490565, -0.03280882876468505)\n",
      "(0.982725527831094, -0.016976064780191646)\n",
      "(0.9912875121006777, -0.008636580453926457)\n",
      "(0.9956246961594556, -0.004356160556847288)\n",
      "(0.9978075517661388, -0.0021876414046030357)\n",
      "(0.9989025728569687, -0.0010962227966970772)\n",
      "(0.9994509851765998, -0.0005487134061238352)\n",
      "(0.9997254172132899, -0.0002745073910033202)\n",
      "(0.9998626897551302, -0.00013729139076645858)\n",
      "(0.9999313401637157, -6.865512211118308e-05)\n",
      "(0.9999656689032742, -3.432991810159436e-05)\n",
      "(0.999982834156976, -1.7165548357844784e-05)\n",
      "(0.9999914170048209, -8.58292151129092e-06)\n",
      "Resultado: 0.999991417005 Após 20 iterações. Diferença de chutes final: 1.000008583\n"
     ]
    }
   ],
   "source": [
    "# Questão 1)\n",
    "# Retorna x (aproximação da solução homogênea f(x) = 0), o número de iterações, a diferença entre os últimos 2 chutes a0, b0.\n",
    "# Atenção! No método regular falsi, a diferença entre os últimos 2 chutes NÃO necessariamente converge a 0,\n",
    "# mesmo que x convirja à solução homogênea. A função retorna quando a diferença é menor que TOL (nem sempre converge)\n",
    "# ou quando o número de iterações N é alcançado. Por isso é importante passar um limite de iterações N não muito grande\n",
    "# quando chamar a função, pois a função pode fazer muitas iterações quando o resultado já convergiu, mas nunca será\n",
    "# alcançado uma dif < TOL.\n",
    "def regularFalsi(f,a,b,N,TOL):\n",
    "    a0 = a\n",
    "    b0 = b\n",
    "    fa = f(a0)\n",
    "    fb = f(b0)\n",
    "    x0 = (a0*fb-b0*fa)/(fb-fa)\n",
    "    f0 = f(x0)\n",
    "    print(x0,f0)\n",
    "    if (f0*fa<0.0):\n",
    "        dif = x0 - a0\n",
    "        b0 = x0\n",
    "        fb = f0\n",
    "    elif (f0*fb<0.0):\n",
    "        dif = b0 - x0\n",
    "        a0 = x0\n",
    "        fa = f0\n",
    "    elif (fa == 0):\n",
    "        return a0, 0, 0\n",
    "    elif (fb == 0):\n",
    "        return b0, 0, 0\n",
    "    else:\n",
    "        return x0, 1, 0\n",
    "    n = 1\n",
    "    while(dif > TOL and n < N):\n",
    "        x0 = (a0*fb-b0*fa)/(fb-fa)\n",
    "        f0 = f(x0)\n",
    "        print(x0,f0)\n",
    "        if (f0*fa<0.0):\n",
    "            dif = x0 - a0\n",
    "            b0 = x0\n",
    "            fb = f0\n",
    "        elif (f0*fb<0.0):\n",
    "            dif = b0 - x0\n",
    "            a0 = x0\n",
    "            fa = f0\n",
    "        else:\n",
    "            return x0, n, 0\n",
    "        n += 1\n",
    "    return x0, n, dif\n",
    "\n",
    "def f(x):\n",
    "    return x**2-x\n",
    "\n",
    "x0, iteracoes, dif = regularFalsi(f, 0.1, 2, 20, 0.000001)\n",
    "print(\"Resultado: \" + str(x0) + \" Após \" + str(iteracoes) + \" iterações. Diferença de chutes final: \" + str(dif))"
   ]
  },
  {
   "cell_type": "markdown",
   "metadata": {},
   "source": [
    "<h4>Comentários da Questão 1</h4>\n",
    "<p>Resultado: 0.999991417005 Após 20 iterações. Diferença de chutes final: 1.000008583</p>\n",
    "<p>O teste funcionou com sucesso! A função $f(x) = x^{2} - x$ Possui raíz 1, encontrada com os chutes iniciais a = 0.1 e b = 2. A aproximação 0.999991417005 foi encontrada após 20 iterações, o número de iterações máximo passado à função. Note que a diferença de chutes b0 - a0 no final foi 1.000008583, pois como especificado nos comentários acima do cabeçalho da função regularFalsi, a diferença de chutes NÃO necessariamente converge a 0 como no método da bisseção.</p>"
   ]
  },
  {
   "cell_type": "code",
   "execution_count": 95,
   "metadata": {
    "collapsed": false
   },
   "outputs": [
    {
     "name": "stdout",
     "output_type": "stream",
     "text": [
      "[ 0.33392717 -0.03647966]\n",
      "[ 1.92982526  0.04481359]\n",
      "[ 1.79069183  0.04827292]\n",
      "[ 1.27991022  0.06751566]\n",
      "[ 1.59091874  0.06227936]\n",
      "[ 1.53330534  0.06480874]\n",
      "[ 1.51254995  0.0659702 ]\n",
      "[ 1.51439965  0.0659878 ]\n",
      "[ 1.51434327  0.06602197]\n",
      "[ 1.51433789  0.06603324]\n",
      "[ 1.51433684  0.0660355 ]\n",
      "[ 1.51433683  0.06603551]\n",
      "(array([ 1.51433683,  0.06603551]), 12)\n"
     ]
    }
   ],
   "source": [
    "# Questão 2)\n",
    "import numpy as np\n",
    "\n",
    "def F1(x):\n",
    "    f1 = math.exp(-(x[0]**2+x[1]**2))*math.cos(x[0]*x[1]) - 0.1\n",
    "    f2 = x[0]*x[1] - 0.1\n",
    "    Fx = np.array([f1,f2])\n",
    "    return Fx\n",
    "\n",
    "def DF1(x):\n",
    "    DFx = np.zeros((2,2))\n",
    "    DFx[0][0] = (-2.0*x[0]*math.exp(-(x[0]**2+x[1]**2)))*math.cos(x[0]*x[1]) - math.exp(-(x[0]**2+x[1]**2))*(math.sin(x[0]*x[1])*x[1])\n",
    "    DFx[0][1] = (-2.0*x[1]*math.exp(-(x[0]**2+x[1]**2)))*math.cos(x[0]*x[1]) - math.exp(-(x[0]**2+x[1]**2))*(math.sin(x[0]*x[1])*x[0])\n",
    "    DFx[1][0] = x[1]\n",
    "    DFx[1][1] = x[0]\n",
    "    return DFx\n",
    "\n",
    "def F(x):\n",
    "    f1 = x[0]**2+x[1]**2\n",
    "    f2 = x[0]+x[1]\n",
    "    Fx = np.array([f1,f2])\n",
    "    return Fx\n",
    "\n",
    "def DF(x):\n",
    "    DFx = np.zeros((2,2))\n",
    "    DFx[0][0] = 2.0*x[0]\n",
    "    DFx[0][1] = 2.0*x[1]\n",
    "    DFx[1][0] = 1.0\n",
    "    DFx[1][1] = 1.0\n",
    "    return DFx\n",
    "\n",
    "def converterParaMatrix(x):\n",
    "    n = len(x)\n",
    "    M = np.zeros((n,1))\n",
    "    for i in range(n):\n",
    "        M[i][0] = x[i]\n",
    "    return M\n",
    "\n",
    "# Atenção: Assim como a implementação do método multivariado de newton,\n",
    "# mantive o teste de ||x1 - x0|| < TOL para observar a convergência do\n",
    "# método. Apesar de que ambos os métodos são imprecisos, esse teste pode\n",
    "# acabar apontando que o método convergiu quando, de fato, não convergiu\n",
    "# para uma solução! O ideal seria não fazer esse teste e apenas basear-se\n",
    "# no número de iterações, apesar de que isso não daria garantia de convergência\n",
    "# do método.\n",
    "def broydenMethod(F,A0,x0,N,TOL):\n",
    "    F0 = F(x0)\n",
    "    s = np.linalg.solve(A0,F0)\n",
    "    x1 = x0 - s\n",
    "    F1 = F(x1)\n",
    "    print(x1)\n",
    "    i = 1\n",
    "    while((np.linalg.norm(x1-x0)>TOL)and(i<N)):\n",
    "        deltaX = converterParaMatrix(x1 - x0)\n",
    "        deltaY = converterParaMatrix(F1 - F0)\n",
    "        A0 = A0 + (deltaY - A0.dot(deltaX)).dot(np.transpose(deltaX))/np.transpose(deltaX).dot(deltaX)\n",
    "        x0 = x1\n",
    "        F0 = F1\n",
    "        s = np.linalg.solve(A0,F0)\n",
    "        x1 = x0 - s\n",
    "        F1 = F(x1)\n",
    "        print(x1)\n",
    "        i = i+1\n",
    "    return x1, i\n",
    "\n",
    "x0 = np.array([2.1,-.1])\n",
    "print(broydenMethod(F1,DF1(x0),x0,100,0.000001))"
   ]
  },
  {
   "cell_type": "code",
   "execution_count": 94,
   "metadata": {
    "collapsed": false
   },
   "outputs": [
    {
     "name": "stdout",
     "output_type": "stream",
     "text": [
      "[ 2.09797922  0.54217699]\n",
      "[ 2.09510107  0.04568511]\n",
      "[ 2.09077671  0.04572703]\n",
      "[ 0.36944208  0.08540598]\n",
      "[ 1.9134203   0.05506809]\n",
      "[ 1.7763906   0.05832574]\n",
      "[ 1.30324085  0.0707513 ]\n",
      "[ 1.57967644  0.06403236]\n",
      "[ 1.52883698  0.06550433]\n",
      "[ 1.51313268  0.06603784]\n",
      "[ 1.51435289  0.06602447]\n",
      "[ 1.51433554  0.06603255]\n",
      "[ 1.51433647  0.0660347 ]\n",
      "[ 1.51433683  0.06603551]\n",
      "(array([ 1.51433683,  0.06603551]), 14)\n"
     ]
    }
   ],
   "source": [
    "def broydenMethod2(F,B0,x0,N,TOL):\n",
    "    F0 = F(x0)\n",
    "    x1 = x0 - B0.dot(F0)\n",
    "    F1 = F(x1)\n",
    "    print(x1)\n",
    "    i = 1\n",
    "    while((np.linalg.norm(x1-x0)>TOL)and(i<N)):\n",
    "        deltaX = converterParaMatrix(x1 - x0)\n",
    "        deltaY = converterParaMatrix(F1 - F0)\n",
    "        B0 = B0 + (deltaX - B0.dot(deltaY)).dot(np.transpose(deltaX).dot(B0))/np.transpose(deltaX).dot(B0.dot(deltaY))\n",
    "        x0 = x1\n",
    "        F0 = F1\n",
    "        x1 = x0 - B0.dot(F0)\n",
    "        F1 = F(x1)\n",
    "        print(x1)\n",
    "        i = i+1\n",
    "    return x1, i\n",
    "\n",
    "x0 = np.array([2.1,-.1])\n",
    "print(broydenMethod2(F1,DF1(x0),x0,100,0.000001))"
   ]
  },
  {
   "cell_type": "markdown",
   "metadata": {},
   "source": [
    "<h4>Comentários da Questão 2</h4>\n",
    "<p>Para a função F1 (de jacobiano DF1):</p>\n",
    "<p>Resultado no método I: (1.51433683,  0.06603551), 12 iterações.</p>\n",
    "<p>Resultado no método II: (1.51433683,  0.06603551), 14 iterações.</p>\n",
    "<p>Para a função F (de jacobiano DF):</p>\n",
    "<p>Resultado no método I: (7.71750224e-07,  -7.71750224e-07), 30 iterações.</p>\n",
    "<p>Resultado no método II: (9.23807633e-07, -9.23807633e-07), 34 iterações.</p>\n",
    "<p>O teste funcionou com sucesso! Comparado com o método de Newton, demorou mais para convergir, pois não usa a matriz jacobiana exata e sim a aproximação dela. Como no caso que testei (função F1), já sabia a matriz jacobiana (DF1), mas o método de Broyden não a usa (ele é mais útil quando calcular a Jacobiana não é tão fácil quanto este caso), usei a matriz jacobiana em x0 como chute inicial de A0 e B0, simulando um caso que a matriz jacobiana demora a ser calculada, mas pode ser calculada ao menos uma primeira vez (no método II isso não faz muito sentido, é um chute inicial qualquer).</p>"
   ]
  },
  {
   "cell_type": "code",
   "execution_count": 111,
   "metadata": {
    "collapsed": false
   },
   "outputs": [
    {
     "data": {
      "image/png": "[encoded data removed]",
      "text/plain": [
       "<matplotlib.figure.Figure at 0xe3754e0>"
      ]
     },
     "metadata": {},
     "output_type": "display_data"
    }
   ],
   "source": [
    "# Questão 3)\n",
    "import math\n",
    "import numpy as np\n",
    "import matplotlib.pyplot as plt\n",
    "\n",
    "%matplotlib inline\n",
    "\n",
    "def f(x, y):\n",
    "    return x**2 + y**2 - 1\n",
    "\n",
    "def g(x, y):\n",
    "    return math.exp(-(x**2+y**2))*math.cos(x*y)\n",
    "\n",
    "def reta(t,px,py,qx,qy):\n",
    "    return px+t*(qx-px), py+t*(qy-py)\n",
    "\n",
    "def bissecao(f,c,px,py,qx,qy,N):\n",
    "    a = 0.0\n",
    "    b = 1.0\n",
    "    ax,ay = reta(a,px,py,qx,qy)\n",
    "    bx,by = reta(b,px,py,qx,qy)\n",
    "    m = (a+b)/2.0\n",
    "    mx,my = reta(m,px,py,qx,qy)\n",
    "    fa = f(ax,ay)-c\n",
    "    fb = f(bx,by)-c\n",
    "    fm = f(mx,my)-c\n",
    "    for i in range(N):\n",
    "        if (fa*fm < 0.0):\n",
    "            b  = m\n",
    "            fb = fm\n",
    "        elif (fb*fm < 0.0):\n",
    "            a  = m\n",
    "            fa = fm\n",
    "        else:\n",
    "            break\n",
    "        m  = (a+b)/2.0\n",
    "        mx,my = reta(m,px,py,qx,qy)\n",
    "        fm = f(mx,my)-c\n",
    "    return mx,my\n",
    "\n",
    "def triangleintersect(f,c,ax,ay,bx,by,cx,cy,N):\n",
    "    fa = f(ax,ay)-c\n",
    "    fb = f(bx,by)-c\n",
    "    fc = f(cx,cy)-c\n",
    "    p  = []\n",
    "    if (fa*fb <= 0.0):\n",
    "        p.append(bissecao(f,c,ax,ay,bx,by,N))\n",
    "    if (fb*fc <= 0.0):\n",
    "        p.append(bissecao(f,c,bx,by,cx,cy,N))\n",
    "    if (fc*fa <= 0.0):\n",
    "        p.append(bissecao(f,c,cx,cy,ax,ay,N))\n",
    "    return p\n",
    "\n",
    "def levelcurves(f,c,xmin,xmax,ymin,ymax,m,n,NB,cor):\n",
    "    deltax = (xmax - xmin)/(m-1)\n",
    "    deltay = (ymax - ymin)/(n-1)\n",
    "    l = []\n",
    "    for i in range(m):\n",
    "        x0 = xmin + i*deltax\n",
    "        x1 = x0 + deltax\n",
    "        for j in range(n):\n",
    "            y0 = ymin + j*deltay\n",
    "            y1 = y0 + deltay\n",
    "            aresta = triangleintersect(f,c,x0,y0,x1,y0,x1,y1,NB)\n",
    "            if (aresta != []):\n",
    "                l.append(aresta)\n",
    "            aresta = triangleintersect(f,c,x0,y0,x1,y1,x0,y1,NB)\n",
    "            if (aresta != []):\n",
    "                l.append(aresta)\n",
    "    for i in range(len(l)):\n",
    "        px = []\n",
    "        py = [] \n",
    "        for j in range(len(l[i])):\n",
    "            px.append(l[i][j][0])\n",
    "            py.append(l[i][j][1])\n",
    "        plt.plot(px,py,color=cor)\n",
    "    plt.xlim(xmin,xmax)\n",
    "    plt.ylim(ymin,ymax)\n",
    "\n",
    "levelcurves(f,0,-2.0,2.0,-2.0,2.0,100,100,20,'blue')\n",
    "levelcurves(g,0,-2.0,2.0,-2.0,2.0,100,100,20,'red')"
   ]
  },
  {
   "cell_type": "code",
   "execution_count": 133,
   "metadata": {
    "collapsed": false
   },
   "outputs": [
    {
     "name": "stdout",
     "output_type": "stream",
     "text": [
      "Curvas de nível das funções:\n"
     ]
    },
    {
     "data": {
      "image/png": "[encoded data removed]",
      "text/plain": [
       "<matplotlib.figure.Figure at 0xe5ea198>"
      ]
     },
     "metadata": {},
     "output_type": "display_data"
    },
    {
     "name": "stdout",
     "output_type": "stream",
     "text": [
      "[-1.    1.05]\n",
      "[-2.92276  3.4044 ]\n",
      "[-0.45643274  1.23929701]\n",
      "[-0.09306163  1.35474963]\n",
      "[ 0.04461411  1.22869425]\n",
      "[ 0.21740409  1.04218662]\n",
      "[ 0.29734707  0.9699601 ]\n",
      "[ 0.31025664  0.95382361]\n",
      "[ 0.31843799  0.94699843]\n",
      "[ 0.31609766  0.94878186]\n",
      "[ 0.31622855  0.9486826 ]\n",
      "[ 0.31622786  0.94868323]\n",
      "Solução encontrada por Broyden: [ 0.31622786  0.94868323]\n",
      "Curvas de nível ao redor da solução:\n"
     ]
    },
    {
     "data": {
      "image/png": "[encoded data removed]",
      "text/plain": [
       "<matplotlib.figure.Figure at 0xd6b9d68>"
      ]
     },
     "metadata": {},
     "output_type": "display_data"
    }
   ],
   "source": [
    "# Questão 4)\n",
    "import sys\n",
    "def f(x, y):\n",
    "    return x**2 + y**2 - 1\n",
    "\n",
    "# COMENTÁRIO: mudei levemente a função pedida pelo enunciado para que o sistema tivesse solução real!\n",
    "def g(x, y):\n",
    "    return x*y - 0.3\n",
    "\n",
    "def SIST(x):\n",
    "    n = len(x)\n",
    "    if (n != 2):\n",
    "        sys.exit(0)\n",
    "    sol = np.zeros(2)\n",
    "    sol[0] = f(x[0], x[1])\n",
    "    sol[1] = g(x[0], x[1])\n",
    "    return sol\n",
    "\n",
    "print(\"Curvas de nível das funções:\")\n",
    "\n",
    "levelcurves(f,0,-2.,2.,-2.,2.,100,100,20,'blue')\n",
    "levelcurves(g,0,-2.,2.,-2.,2.,100,100,20,'red')\n",
    "plt.show()\n",
    "\n",
    "x0 = np.array([0.5, 1.5])\n",
    "IDENT = np.matrix([[1., 0.], [0., 1.]])\n",
    "xsol, it = broydenMethod(SIST,IDENT,x0,100,0.000001)\n",
    "\n",
    "print(\"Solução encontrada por Broyden: \" + str(xsol))\n",
    "\n",
    "print(\"Curvas de nível ao redor da solução:\")\n",
    "\n",
    "levelcurves(f,0,xsol[0]-0.2,xsol[0]+0.2,xsol[1]-0.2,xsol[1]+0.2,100,100,20,'blue')\n",
    "levelcurves(g,0,xsol[0]-0.2,xsol[0]+0.2,xsol[1]-0.2,xsol[1]+0.2,100,100,20,'red')\n",
    "plt.show()"
   ]
  },
  {
   "cell_type": "code",
   "execution_count": null,
   "metadata": {
    "collapsed": true
   },
   "outputs": [],
   "source": []
  }
 ],
 "metadata": {
  "kernelspec": {
   "display_name": "Python 2",
   "language": "python",
   "name": "python2"
  },
  "language_info": {
   "codemirror_mode": {
    "name": "ipython",
    "version": 2
   },
   "file_extension": ".py",
   "mimetype": "text/x-python",
   "name": "python",
   "nbconvert_exporter": "python",
   "pygments_lexer": "ipython2",
   "version": "2.7.13"
  }
 },
 "nbformat": 4,
 "nbformat_minor": 2
}
