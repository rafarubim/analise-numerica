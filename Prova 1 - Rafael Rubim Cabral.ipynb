{
 "cells": [
  {
   "cell_type": "markdown",
   "metadata": {},
   "source": [
    "PUC- Rio - Prova 2017.1 - INF1608 - Rafael Rubim Cabral (Matrícula - 1511068)\n",
    "\n",
    "Questões 1), 2), 3)"
   ]
  },
  {
   "cell_type": "code",
   "execution_count": 3,
   "metadata": {
    "collapsed": false
   },
   "outputs": [
    {
     "name": "stdout",
     "output_type": "stream",
     "text": [
      "A:\n",
      "[[ 4. -1.  0.  0.]\n",
      " [-1.  4. -1.  0.]\n",
      " [ 0. -1.  4. -1.]\n",
      " [ 0.  0. -1.  4.]]\n",
      "Cholesky Numpy(A):\n",
      "[[ 2.          0.          0.          0.        ]\n",
      " [-0.5         1.93649167  0.          0.        ]\n",
      " [ 0.         -0.51639778  1.93218357  0.        ]\n",
      " [ 0.          0.         -0.51754917  1.93187548]]\n",
      "Cholesky Tridiagonal(A):\n",
      "[[ 2.          0.          0.          0.        ]\n",
      " [-0.5         1.93649167  0.          0.        ]\n",
      " [ 0.         -0.51639778  1.93218357  0.        ]\n",
      " [ 0.          0.         -0.51754917  1.93187548]]\n",
      "Ly = b => (Pela forward sub original) y:\n",
      "[ 0.5         0.12909944  0.03450328  0.52687513]\n",
      "Ly = b => (Pela forward sub tridiagonal) y:\n",
      "[ 0.5         0.12909944  0.03450328  0.52687513]\n",
      "(L^t)x = y => (Pela backward sub original) x:\n",
      "[ 0.27272727  0.09090909  0.09090909  0.27272727]\n",
      "(L^t)x = y => (Pela backward sub tridiagonal) x:\n",
      "[ 0.27272727  0.09090909  0.09090909  0.27272727]\n"
     ]
    }
   ],
   "source": [
    "import numpy as np\n",
    "import math\n",
    "\n",
    "#Questão 1)\n",
    "def CholeskyDecompTridiag(A):\n",
    "    L = np.copy(A)\n",
    "    n = len(A)\n",
    "    L[0][0] = L[0,0]\n",
    "    for j in range(n):\n",
    "        L[j][j] = L[j][j]\n",
    "        if (j > 0):\n",
    "            L[j][j] -= (L[j][j-1])**2\n",
    "        L[j][j] = math.sqrt(L[j][j])\n",
    "        if (j < n-1):\n",
    "            L[j+1][j] /= L[j][j]\n",
    "    for i in range(n-1):\n",
    "        for j in range(i+1,n):\n",
    "            L[i][j] = 0.0\n",
    "    return L\n",
    "\n",
    "#Questão 2)\n",
    "# Código modificado pedido pela questão\n",
    "def LforwardsubTridiag (L,b):\n",
    "    n = len(L)\n",
    "    y = np.zeros(n)\n",
    "    y[0] = b[0]/L[0][0]\n",
    "    for i in range(1,n):\n",
    "        y[i] = b[i]\n",
    "        y[i] = y[i] - L[i][i-1]*y[i-1]\n",
    "        y[i] = y[i]/L[i][i]\n",
    "    return y\n",
    "\n",
    "# Código original mantido para testes\n",
    "def Lforwardsub (L,b):\n",
    "    n = len(L)\n",
    "    y = np.zeros(n)\n",
    "    y[0] = b[0]/L[0][0]\n",
    "    for i in range(1,n):\n",
    "        y[i] = b[i]\n",
    "        for j in range(i):\n",
    "            y[i] = y[i] - L[i][j]*y[j]\n",
    "        y[i] = y[i]/L[i][i]\n",
    "    return y\n",
    "\n",
    "# Código modificado pedido pela questão\n",
    "def LTbackwardsubTridiag (L,y):\n",
    "    n = len(L)\n",
    "    x = np.zeros(n)\n",
    "    x[n-1] = y[n-1]/L[n-1][n-1]\n",
    "    for i in range(n-2,-1,-1):\n",
    "        x[i] = y[i]\n",
    "        x[i] = x[i] - L[i+1][i]*x[i+1]\n",
    "        x[i] /= L[i][i]\n",
    "    return x\n",
    "\n",
    "def LTbackwardsub (L,y):\n",
    "    n = len(L)\n",
    "    x = np.zeros(n)\n",
    "    x[n-1] = y[n-1]/L[n-1][n-1]\n",
    "    for i in range(n-2,-1,-1):\n",
    "        x[i] = y[i]\n",
    "        for j in range(i+1,n):\n",
    "            x[i] = x[i] - L[j][i]*x[j]\n",
    "        x[i] /= L[i][i]\n",
    "    return x\n",
    "\n",
    "#Questão 3)\n",
    "A = np.matrix([[4.0,-1.0,0.0,0.0],[-1.0,4.0,-1.0,0.0],[0.0,-1.0,4.0,-1.0],[0.0,0.0,-1.0,4.0]])\n",
    "L = CholeskyDecompTridiag(A)\n",
    "print(\"A:\\n\" + str(A))\n",
    "# (Teste realizado comparando resultado com função do numpy)\n",
    "print(\"Cholesky Numpy(A):\\n\" + str(np.linalg.cholesky(A)))\n",
    "print(\"Cholesky Tridiagonal(A):\\n\" + str(L))\n",
    "b = np.array([1.0,0.0,0.0,1.0])\n",
    "y = LforwardsubTridiag(L, b)\n",
    "# (Teste realizado comparando resultado com função original, não modificada)\n",
    "print(\"Ly = b => (Pela forward sub original) y:\\n\" + str(Lforwardsub(L, b)))\n",
    "print(\"Ly = b => (Pela forward sub tridiagonal) y:\\n\" + str(y))\n",
    "x = LTbackwardsubTridiag(L, y)\n",
    "# (Teste realizado comparando resultado com função original, não modificada)\n",
    "print(\"(L^t)x = y => (Pela backward sub original) x:\\n\" + str(LTbackwardsub(L, y)))\n",
    "print(\"(L^t)x = y => (Pela backward sub tridiagonal) x:\\n\" + str(x))"
   ]
  },
  {
   "cell_type": "markdown",
   "metadata": {},
   "source": [
    "Questões 4), 5)"
   ]
  },
  {
   "cell_type": "code",
   "execution_count": 4,
   "metadata": {
    "collapsed": false
   },
   "outputs": [
    {
     "name": "stdout",
     "output_type": "stream",
     "text": [
      "Ax = b => (Pelo Gauss-Seidel original, 20 iteracoes maximas, tolerancia maxima 1e-06) x:\n",
      "[ 0.27272716  0.09090902  0.09090906  0.27272727]\n",
      "Iteracoes totais: 9\n",
      "Ax = b => (Pelo Gauss-Seidel original, 20 iteracoes maximas, tolerancia maxima 1e-06) x:\n",
      "[ 0.27272716  0.09090902  0.09090906  0.27272727]\n",
      "Iteracoes totais: 9\n"
     ]
    }
   ],
   "source": [
    "import numpy as np\n",
    "\n",
    "#Questão 4)\n",
    "# Código modificado pedido pela questão\n",
    "def gaussseidelTridiag(A,b,x0,N,TOL):\n",
    "\n",
    "    nlin = len(A); #num. de linhas\n",
    "    x = np.zeros(nlin); #cria x\n",
    "   \n",
    "    #iteracoes\n",
    "    k = 1;\n",
    "    while (k <= N):\n",
    "        #iteracao de Gauss-Seidel (para caso tridiagonal)\n",
    "        for i in range(nlin):\n",
    "            s = 0.0;\n",
    "            if (i > 0): #j = i-1\n",
    "                s = s + A[i,i-1]*x[i-1]\n",
    "            if (i < nlin-1): #j = i+1\n",
    "                s = s + A[i,i+1]*x0[i+1]\n",
    "            x[i] = (b[i] - s)/A[i,i]\n",
    "        #criterio de parada\n",
    "        if (np.linalg.norm(x-x0) < TOL):\n",
    "            return x,k\n",
    "        #prepara nova iteracao\n",
    "        k = k+1;\n",
    "        x0 = np.copy(x)\n",
    "    return x0,k\n",
    "\n",
    "# Código original mantido para testes\n",
    "def gaussseidel(A,b,x0,N,TOL):\n",
    "\n",
    "    nlin = len(A); #num. de linhas\n",
    "    x = np.zeros(nlin); #cria x\n",
    "   \n",
    "    #iteracoes\n",
    "    k = 1;\n",
    "    while (k <= N):\n",
    "        #iteracao de Gauss-Seidel\n",
    "        for i in range(nlin):\n",
    "            s = 0.0;\n",
    "            for j in range(i):\n",
    "                s = s + A[i,j]*x[j]\n",
    "            for j in range(i+1,nlin):\n",
    "                s = s + A[i,j]*x0[j]\n",
    "            x[i] = (b[i] - s)/A[i,i]\n",
    "        #criterio de parada\n",
    "        if (np.linalg.norm(x-x0) < TOL):\n",
    "            return x,k\n",
    "        #prepara nova iteracao\n",
    "        k = k+1;\n",
    "        x0 = np.copy(x)\n",
    "    return x0,k\n",
    "\n",
    "#Questão 5)\n",
    "A = np.matrix([[4.0,-1.0,0.0,0.0],[-1.0,4.0,-1.0,0.0],[0.0,-1.0,4.0,-1.0],[0.0,0.0,-1.0,4.0]])\n",
    "b = np.array([1.0,0.0,0.0,1.0])\n",
    "x0 = np.array([0.0,0.0,0.0,0.0])\n",
    "N = 20\n",
    "TOL = 0.000001\n",
    "xOrig, itOrig = gaussseidel(A, b, x0, N, TOL)\n",
    "xTridiag, itTridiag = gaussseidelTridiag(A, b, x0, N, TOL)\n",
    "# (Teste realizado comparando resultado com função original, não modificada)\n",
    "print(\"Ax = b => (Pelo Gauss-Seidel original, \" + str(N) + \" iteracoes maximas, tolerancia maxima \" + str(TOL) + \") x:\\n\" + str(xOrig) + \"\\nIteracoes totais: \" + str(itOrig))\n",
    "print(\"Ax = b => (Pelo Gauss-Seidel original, \" + str(N) + \" iteracoes maximas, tolerancia maxima \" + str(TOL) + \") x:\\n\" + str(xTridiag) + \"\\nIteracoes totais: \" + str(itTridiag))"
   ]
  },
  {
   "cell_type": "markdown",
   "metadata": {},
   "source": [
    "Questão 6)\n",
    "    Aparentemente as duas soluções foram as mesmas, mas isso ocorreu porque a aproximação numérica foi tão boa que os resultados se aproximaram em menores precisões. O método iterativo (Gauss-Seidel), apesar de muitas vezes apresentar ganho computacional, não apresenta solução necessariamente correta, apenas uma aproximação muito dependente do chute inicial (x0), número de iterações máximo (N) e tolerância de erro máximo (TOL). No meu caso, usei uma tolerância baixíssima e o método convergiu bem rápido (9 iterações). Cholesky, por outro lado, apresenta solução analítica, que portanto é matemáticamente correta, apesar de poder apresentar custo computacional maior. Assim, Cholesky possui um erro menor (ou igual) independente dos parâmetros de Gauss-Seidel (x0, N, TOL), isso desconsiderando as aproximações discretas de ponto flutuante, claro. Para uma tolerância de Gauss-Seidel menor, pode-se deixar isso evidente no código abaixo:"
   ]
  },
  {
   "cell_type": "code",
   "execution_count": 5,
   "metadata": {
    "collapsed": false
   },
   "outputs": [
    {
     "name": "stdout",
     "output_type": "stream",
     "text": [
      "Erro do Cholesky: 0.0\n",
      "Erro do Cholesky 2: 1.58231126132e-16\n",
      "Erro do Gauss-Seidel: 0.0240383117269\n"
     ]
    }
   ],
   "source": [
    "import numpy as np\n",
    "\n",
    "A = np.matrix([[4.0,-1.0,0.0,0.0],[-1.0,4.0,-1.0,0.0],[0.0,-1.0,4.0,-1.0],[0.0,0.0,-1.0,4.0]])\n",
    "b = np.array([1.0,0.0,0.0,1.0])\n",
    "x0 = np.array([0.0,0.0,0.0,0.0])\n",
    "\n",
    "#Cholesky\n",
    "L = CholeskyDecompTridiag(A)\n",
    "y = LforwardsubTridiag(L, b)\n",
    "xCholesky = LTbackwardsubTridiag(L, y)\n",
    "\n",
    "#Gauss-Seidel\n",
    "xGaussSeidel, it = gaussseidelTridiag(A, b, x0, 3, 0.1)\n",
    "\n",
    "#Solução do numpy \"analítica\"\n",
    "xNumpy = np.linalg.solve(A, b)\n",
    "\n",
    "print(\"Erro do Cholesky: \" + str(np.linalg.norm(xNumpy - xCholesky)))\n",
    "print(\"Erro do Cholesky 2: \" + str(np.linalg.norm(A.dot(xCholesky) - b)))\n",
    "print(\"Erro do Gauss-Seidel: \" + str(np.linalg.norm(xNumpy - xGaussSeidel)))"
   ]
  },
  {
   "cell_type": "code",
   "execution_count": null,
   "metadata": {
    "collapsed": true
   },
   "outputs": [],
   "source": []
  }
 ],
 "metadata": {
  "kernelspec": {
   "display_name": "Python 2",
   "language": "python",
   "name": "python2"
  },
  "language_info": {
   "codemirror_mode": {
    "name": "ipython",
    "version": 2
   },
   "file_extension": ".py",
   "mimetype": "text/x-python",
   "name": "python",
   "nbconvert_exporter": "python",
   "pygments_lexer": "ipython2",
   "version": "2.7.13"
  }
 },
 "nbformat": 4,
 "nbformat_minor": 0
}
