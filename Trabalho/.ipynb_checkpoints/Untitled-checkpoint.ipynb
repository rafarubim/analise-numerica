{
 "cells": [
  {
   "cell_type": "markdown",
   "metadata": {},
   "source": [
    "<p>$\\vec{B(t)} = (X(t),Y(t))$</p>\n",
    "<p>$X(t) = ax + bx.t + cx.t^{2} + dx.t^{3}$</p>\n",
    "<p>$Y(t) = ay + by.t + cy.t^{2} + dy.t^{3}$</p>\n",
    "<p>$\\vec{B(t)} = (ax, ay) + (bx, by).t + (cx, cy).t^{2} + (dx, dy).t^{3}$</p>\n",
    "<p>$\\vec{B(t)} = \\vec{a} + \\vec{b}.t + \\vec{c}.t^{2} + \\vec{d}.t^{3}$</p>\n",
    "<p>$\\textbf{Eq.1} \\rightarrow \\vec{B(0)} = \\vec{p1}$</p>\n",
    "<p>$\\textbf{Eq.2} \\rightarrow \\vec{B(1)} = \\vec{p4}$</p>\n",
    "<p>$\\textbf{Eq.3} \\rightarrow \\vec{B'(0)} = \\vec{p2} - \\vec{p1}$</p>\n",
    "<p>$\\textbf{Eq.4} \\rightarrow \\vec{B'(1)} = \\vec{p4} - \\vec{p3}$</p>\n",
    "<p>Deduzindo $\\vec{a}$:</p>\n",
    "<p>$\\vec{B}$ avaliado em 0:<p>\n",
    "<p>$\\vec{B(0)} = \\vec{a}$</p>\n",
    "<p>Pela eq.1:</p>\n",
    "<p>$\\Rightarrow \\vec{a} = \\vec{p1}$</p>\n",
    "<p>Deduzindo $\\vec{b}$:</p>\n",
    "<p>Derivada de $\\vec{B}$ em 0:<p>\n",
    "<p>$\\vec{B'(0)} = \\vec{b}$</p>\n",
    "<p>Pela eq.3:</p>\n",
    "<p>$\\Rightarrow \\vec{b} = \\vec{p2} - \\vec{p1}$</p>\n",
    "<p>Deduzindo $\\vec{c}$ e $\\vec{d}$:</p>\n",
    "<p>$\\vec{B}$ avaliado em 1:<p>\n",
    "<p>$\\vec{B(1)} = \\vec{a} + \\vec{b} + \\vec{c} + \\vec{d}$</p>\n",
    "<p>Pela eq.2, substituindo $\\vec{a}$ e $\\vec{b}$:</p>\n",
    "<p>$\\textbf{Eq.5} \\rightarrow \\vec{c} + \\vec{d} = \\vec{p4} - \\vec{p2}$</p>\n",
    "<p>Derivada de $\\vec{B}$ em 1:<p>\n",
    "<p>$\\vec{B'(1)} = \\vec{b} + 2.\\vec{c} + 3.\\vec{d}$</p>\n",
    "<p>Pela eq.4, substituindo $\\vec{b}$:</p>\n",
    "<p>$\\textbf{Eq.6} \\rightarrow 2.\\vec{c} + 3.\\vec{d} = \\vec{p1} - \\vec{p2} - \\vec{p3} + \\vec{p4}$</p>\n",
    "<p>Resolvendo o sistema entre as equações eq.5 e eq.6 obtém-se:</p>\n",
    "<p>$\\vec{c} = - \\vec{p1} - 2.\\vec{p2} + \\vec{p3} + 2.\\vec{p4}$</p>\n",
    "<p>$\\vec{d} = \\vec{p1} + \\vec{p2} - \\vec{p3} - \\vec{p4}$</p>"
   ]
  },
  {
   "cell_type": "code",
   "execution_count": null,
   "metadata": {
    "collapsed": true
   },
   "outputs": [],
   "source": []
  }
 ],
 "metadata": {
  "kernelspec": {
   "display_name": "Python 2",
   "language": "python",
   "name": "python2"
  },
  "language_info": {
   "codemirror_mode": {
    "name": "ipython",
    "version": 2
   },
   "file_extension": ".py",
   "mimetype": "text/x-python",
   "name": "python",
   "nbconvert_exporter": "python",
   "pygments_lexer": "ipython2",
   "version": "2.7.13"
  }
 },
 "nbformat": 4,
 "nbformat_minor": 2
}
