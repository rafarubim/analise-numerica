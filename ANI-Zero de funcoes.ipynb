{
 "cells": [
  {
   "cell_type": "code",
   "execution_count": 2,
   "metadata": {
    "collapsed": false
   },
   "outputs": [
    {
     "name": "stdout",
     "output_type": "stream",
     "text": [
      "(1.25, 0.3125)\n",
      "(0.875, -0.109375)\n",
      "(1.0625, 0.06640625)\n",
      "(0.96875, -0.0302734375)\n",
      "(1.015625, 0.015869140625)\n",
      "(0.9921875, -0.00775146484375)\n",
      "(1.00390625, 0.0039215087890625)\n",
      "(0.998046875, -0.001949310302734375)\n",
      "(1.0009765625, 0.0009775161743164062)\n",
      "(0.99951171875, -0.00048804283142089844)\n",
      "(1.000244140625, 0.0002442002296447754)\n",
      "(0.9998779296875, -0.00012205541133880615)\n",
      "(1.00006103515625, 6.103888154029846e-05)\n",
      "(0.999969482421875, -3.0516646802425385e-05)\n",
      "(1.0000152587890625, 1.5259021893143654e-05)\n",
      "(0.9999923706054688, -7.6293363235890865e-06)\n",
      "(1.0000038146972656, 3.814711817540228e-06)\n",
      "(0.9999980926513672, -1.907344994833693e-06)\n",
      "(1.0000009536743164, 9.536752259009518e-07)\n",
      "(0.9999995231628418, -4.7683693082944956e-07)\n",
      "1.00000023842\n",
      "21.0\n"
     ]
    }
   ],
   "source": [
    "import numpy as np\n",
    "import math\n",
    "\n",
    "def bissection(f,a,b,TOL):\n",
    "    a0 = a\n",
    "    b0 = b\n",
    "    x0 = (a0+b0)/2.0\n",
    "    f0 = f(x0)\n",
    "    fa = f(a0)\n",
    "    fb = f(b0)\n",
    "    size  = (b0-a0)/2.0\n",
    "    while(size > TOL):\n",
    "        print(x0,f0)\n",
    "        if (f0*fa<0.0):\n",
    "            b0 = x0\n",
    "            fb = f0\n",
    "        elif (f0*fb<0.0):\n",
    "            a0 = x0\n",
    "            fa = f0\n",
    "        else:\n",
    "            return x0\n",
    "        x0 = (a0+b0)/2.0\n",
    "        f0 = f(x0)\n",
    "        size  = size/2.0\n",
    "    return x0\n",
    "\n",
    "def f(x):\n",
    "    return x**2-x\n",
    "\n",
    "\n",
    "print(bissection(f,0.5,2.0,0.000001))\n",
    "print(math.ceil(math.log((2.0-0.5)*1000000)/math.log(2.0)))\n",
    "\n"
   ]
  },
  {
   "cell_type": "code",
   "execution_count": 7,
   "metadata": {
    "collapsed": false
   },
   "outputs": [
    {
     "name": "stdout",
     "output_type": "stream",
     "text": [
      "-0.0666666666667\n",
      "-0.00392156862745\n",
      "-1.52590218967e-05\n",
      "-2.32830643708e-10\n",
      "-5.42101086243e-20\n",
      "(-5.421010862427522e-20, 5)\n"
     ]
    }
   ],
   "source": [
    "import numpy as np\n",
    "\n",
    "def f(x):\n",
    "    return x**2-x\n",
    "\n",
    "def df(x):\n",
    "    return 2.0*x-1.0\n",
    "\n",
    "\n",
    "def newtonmethod(f,df,x0,N,TOL):\n",
    "    f0 = f(x0)\n",
    "    df0 = df(x0)\n",
    "    x1 = x0 - f0/df0\n",
    "    i = 0\n",
    "    while((abs(x1-x0)>TOL)and(i<N)):\n",
    "        x0 = x1\n",
    "        f0 = f(x0)\n",
    "        df0 = df(x0)\n",
    "        x1 = x0 - f0/df0\n",
    "        i = i+1\n",
    "        print(x1)\n",
    "    return x1,i\n",
    "\n",
    "print(newtonmethod(f,df,-1.0,100,0.000001))"
   ]
  }
 ],
 "metadata": {
  "kernelspec": {
   "display_name": "Python 2",
   "language": "python",
   "name": "python2"
  },
  "language_info": {
   "codemirror_mode": {
    "name": "ipython",
    "version": 2
   },
   "file_extension": ".py",
   "mimetype": "text/x-python",
   "name": "python",
   "nbconvert_exporter": "python",
   "pygments_lexer": "ipython2",
   "version": "2.7.13"
  }
 },
 "nbformat": 4,
 "nbformat_minor": 0
}
