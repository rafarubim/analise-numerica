{
 "cells": [
  {
   "cell_type": "markdown",
   "metadata": {},
   "source": [
    "## INF1608 - Análise Numérica - 2017.1\n",
    "## Departamento de Informática - PUC-Rio \n",
    "## Prof. Hélio Lopes - lopes@inf.puc-rio.br\n",
    "## http://www.inf.puc-rio.br/~lopes\n",
    "\n",
    "\n",
    "\n",
    "## Lista 1\n",
    "\n",
    "1) Faça a implementação da decomposição LU, cuja entrada é uma matriz A de tamanho nxn.\n",
    "\n",
    "2) Faça a implementação das funções LUforwardsub e da LUbackwardsub, cuja entrada é a decomposição LU de uma matriz A de tamanho nxn.\n",
    "\n",
    "3) Implemente a função LUsolve que resolve o sistema Ax=b, tendo em mão a deomposição A=LU.\n",
    "\n",
    "4) Teste muito bem todos esses algoritmos!"
   ]
  },
  {
   "cell_type": "code",
   "execution_count": 77,
   "metadata": {
    "collapsed": false
   },
   "outputs": [
    {
     "name": "stdout",
     "output_type": "stream",
     "text": [
      "A = [[1, 2, 3], [4, 5, 6], [7, 8, 9]]\n",
      "LUDecomp(A) = [[1, 2, 3], [4, -3, -6], [7, 2, 0]]\n",
      "U = [[1, 2, 3], [0, -3, -6], [0, 0, 0]]\n",
      "L = [[1, 0, 0], [4, 1, 0], [7, 2, 1]]\n",
      "Eba, tudo funciona!\n"
     ]
    }
   ],
   "source": [
    "# ALUNO: Rafael Rubim Cabral\n",
    "# MATRÍCULA: 1511068\n",
    "#1)\n",
    "# A função LUDecomp recebe uma matriz quadrada qualquer A e faz sua decomposição LU, sem\n",
    "# considerar pivôs = 0. Retorna uma matriz LU cujos elementos da diagonal(inclusive) para cima,\n",
    "# representam a matriz U e os da diagonal(exclusive) para baixo, representam a matriz L. Os\n",
    "# elementos da diagonal de L (1's) são omitidos.\n",
    "def LUDecomp(A):\n",
    "    n = len(A)\n",
    "    \n",
    "    # A matriz LU é inicialmente uma cópia de A:\n",
    "    LU = A[:]\n",
    "    for i in range(n):\n",
    "        LU[i] = A[i][:]\n",
    "    \n",
    "    for j in range(n):\n",
    "        for i in range(j+1, n):\n",
    "            LU[i][j] /= LU[j][j] # fator que multiplica linha, já trocado de sinal (matriz L)\n",
    "            for k in range(j+1, n):\n",
    "                LU[i][k] -= LU[i][j]*LU[j][k] # atualizar elementos da matriz U\n",
    "    return LU\n",
    "\n",
    "# A função getU recebe a matriz resultado de um LUDecomp e retorna a matriz U\n",
    "def getU(LU):\n",
    "    # A matriz U é inicialmente uma cópia de LU:\n",
    "    U = LU[:]\n",
    "    for i in range(len(LU)):\n",
    "        U[i] = LU[i][:]\n",
    "    \n",
    "    for i in range(len(LU)):\n",
    "        for j in range(i):\n",
    "            U[i][j] = 0 # zera tudo abaixo da diagonal\n",
    "    return U\n",
    "\n",
    "# A função getL recebe a matriz resultado de um LUDecomp e retorna a matriz L\n",
    "def getL(LU):\n",
    "    # A matriz L é inicialmente uma cópia de LU:\n",
    "    L = LU[:]\n",
    "    for i in range(len(LU)):\n",
    "        L[i] = LU[i][:]\n",
    "    \n",
    "    for i in range(len(LU)):\n",
    "        L[i][i] = 1 # coloca 1's na diagonal\n",
    "        for j in range(i+1, len(LU)):\n",
    "            L[i][j] = 0 # zera tudo acima da diagonal\n",
    "    return L\n",
    "\n",
    "A = [[1, 2, 3], \\\n",
    "     [4, 5, 6], \\\n",
    "     [7, 8, 9]]\n",
    "print \"A = \" + str(A)\n",
    "LU = LUDecomp(A)\n",
    "print \"LUDecomp(A) = \" + str(RES)\n",
    "U = getU(LU)\n",
    "print \"U = \" + str(U)\n",
    "L = getL(LU)\n",
    "print \"L = \" + str(L)\n",
    "print \"Eba, tudo funciona!\""
   ]
  },
  {
   "cell_type": "code",
   "execution_count": null,
   "metadata": {
    "collapsed": true
   },
   "outputs": [],
   "source": []
  },
  {
   "cell_type": "code",
   "execution_count": 76,
   "metadata": {
    "collapsed": false
   },
   "outputs": [
    {
     "name": "stdout",
     "output_type": "stream",
     "text": [
      "A = [[1, 2, 3], [4, 5, 6], [7, 8, 11]]\n",
      "LUDecomp(A) = [[1, 2, 3], [4, -3, -6], [7, 2, 2]]\n",
      "b = [5, 5, 7]\n",
      "Ly = b => y = [5, -15, 2]\n",
      "Ux = y => x = [-4, 3, 1]\n",
      "Nossa, funcionou de novo!\n"
     ]
    }
   ],
   "source": [
    "#2)\n",
    "# A função LUForwardSub recebe uma matriz (originalmente A) decomposta em LU e um vetor lado\n",
    "# direito \"b\" da equação Ax = b. Essa função retorna um vetor y tal que Ly = b, Ux = y\n",
    "# Essa função assume que a solução de Ly = b é única.\n",
    "def LUForwardSub(LU, b):\n",
    "    n = len(LU)\n",
    "    \n",
    "    # y é inicialmente uma cópia de b\n",
    "    y = b[:]\n",
    "    \n",
    "    for i in range(n):\n",
    "        \n",
    "        lSum = 0 # fazer substituições dos valores já calculados\n",
    "        for j in range(i):\n",
    "            lSum += LU[i][j]*y[j]\n",
    "        \n",
    "        # o próximo valor é calculado pelas substituições na próxima equação\n",
    "        y[i] = b[i] - lSum\n",
    "    return y\n",
    "\n",
    "# A função LUBackwardSub recebe uma matriz (originalmente A) decomposta em LU e um vetor \"y\"\n",
    "# retornado por LUForwardSub. Essa função retorna um vetor x tal que Ux = y, garantindo assim\n",
    "# que Ax = b. Essa função assume que a solução de Ux = y é única.\n",
    "def LUBackwardSub(LU, y):\n",
    "    n = len(LU)\n",
    "    \n",
    "    # x é inicialmente uma cópia de y\n",
    "    x = y[:]\n",
    "    \n",
    "    for k in range(n):\n",
    "        i = n-1-k # i é a linha atual tratada na matriz U\n",
    "        \n",
    "        uSum = 0 # fazer substituições dos valores já calculados\n",
    "        for j in range(i+1, n):\n",
    "            uSum += LU[i][j]*x[j]\n",
    "        \n",
    "        # o próximo valor é calculado pelas substituições na próxima equação\n",
    "        x[i] = y[i] - uSum\n",
    "        x[i] /= LU[i][i]\n",
    "    return x\n",
    "\n",
    "A = [[1, 2, 3], \\\n",
    "     [4, 5, 6], \\\n",
    "     [7, 8, 11]]\n",
    "print \"A = \" + str(A)\n",
    "LU = LUDecomp(A)\n",
    "print \"LUDecomp(A) = \" + str(LU)\n",
    "b = [5, 5, 7]\n",
    "print \"b = \" + str(b)\n",
    "y = LUForwardSub(LU,b)\n",
    "print \"Ly = b => y = \" + str(y)\n",
    "x = LUBackwardSub(LU,y)\n",
    "print \"Ux = y => x = \" + str(x)\n",
    "print \"Nossa, funcionou de novo!\""
   ]
  },
  {
   "cell_type": "code",
   "execution_count": 75,
   "metadata": {
    "collapsed": false
   },
   "outputs": [
    {
     "name": "stdout",
     "output_type": "stream",
     "text": [
      "x = [0.8999999999999999, 0.5, -0.35]\n",
      "A matemática é incrível!\n"
     ]
    }
   ],
   "source": [
    "#3)\n",
    "# A função LUSolve recebe uma matriz quadrada A e um vetor b e resolve o sistema Ax = b,\n",
    "# retornando x. Note que o sistema deve conter solução única e o escalonamento de A não pode\n",
    "# requerer uma troca de linhas para que a função funcione.\n",
    "def LUSolve(A, b):\n",
    "    LU = LUDecomp(A) # Decompor em LU\n",
    "    y = LUForwardSub(LU, b) # Calcular y tal que Ly = b\n",
    "    x = LUBackwardSub(LU, y) # Calcular x tal que Ux = y\n",
    "    return x # Ly = b, Ux = y => LUx = b => Ax = b!\n",
    "\n",
    "A = [[2., 4., 8.], [3., 7., 12.], [9., 1., 16.]]\n",
    "b = [1., 2., 3.]\n",
    "x = LUSolve(A, b)\n",
    "print \"x = \" + str(x)\n",
    "print \"A matemática é incrível!\""
   ]
  },
  {
   "cell_type": "code",
   "execution_count": null,
   "metadata": {
    "collapsed": true
   },
   "outputs": [],
   "source": [
    "#4)\n",
    "# Os algoritmos foram testados no desenvolvimento das questões anteriores, e os resultados\n",
    "# comparados com contas feitas à mão, que validou seus resultados. Deve-se notar, porém, que os\n",
    "# resultados não teriam sido positivos para sistemas lineares com infinitas ou nenhuma solução\n",
    "# ou para matrizes cujo escalonamento exige a operação de troca de linhas, pois o algoritmo\n",
    "# simplificado implementado não considera nenhuma dessas possibilidades."
   ]
  }
 ],
 "metadata": {
  "kernelspec": {
   "display_name": "Python 2",
   "language": "python",
   "name": "python2"
  },
  "language_info": {
   "codemirror_mode": {
    "name": "ipython",
    "version": 2
   },
   "file_extension": ".py",
   "mimetype": "text/x-python",
   "name": "python",
   "nbconvert_exporter": "python",
   "pygments_lexer": "ipython2",
   "version": "2.7.13"
  }
 },
 "nbformat": 4,
 "nbformat_minor": 0
}
