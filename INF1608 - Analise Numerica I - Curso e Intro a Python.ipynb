{
 "cells": [
  {
   "cell_type": "markdown",
   "metadata": {},
   "source": [
    "## INF1608 - Análise Numérica - 2016.1\n",
    "## Departamento de Informática - PUC-Rio \n",
    "## Prof. Hélio Lopes - lopes@inf.puc-rio.br\n",
    "## http://www.inf.puc-rio.br/~lopes\n",
    "\n",
    "\n",
    "\n",
    "## 1 - O curso\n",
    "\n",
    "__Ementa__\n",
    "\n",
    "Apresentação e análise do erro dos métodos mais conhecidos para a solução computacional de problemas matemáticos de amplo espectro de aplicação. Teoria dos erros. Aproximação de funções. Integração numérica de EDOs. Métodos para sistemas de equações lineares. Zeros de funções.\n",
    "\n",
    "__Bibliografia__\n",
    "\n",
    "- Kiusalaas, Jaan; Numerical Methods in Engineering with Python, Cambridge, 2010.\n",
    "\n",
    "- Ruggiero, Márcia A. Gomes; Lopes, Vera Lucia da Rocha; Cálculo Numérico: Aspectos Teóricos e Computacionais; McGraw-Hill, 1988.\n",
    "\n",
    "- Chapra, Steven C.; Canale, Raymond P.; Métodos Numéricos para Engenharia; McGraw-Hill, 2008.\n",
    "\n",
    "- Sauer, Timothy; Numerical Analysis, 2nd Edition; Pearson, 2012.\n",
    "\n",
    "__Critério de avaliação__\n",
    "\n",
    "A nota será composta por (G1+(G2*2))/3, onde: \n",
    "\n",
    "G1 = prova prática em sala de aula (80%) + trabalhos de laboratório (20%) e \n",
    "\n",
    "G2 = prova prática em sala de aula (30%) + trabalhos de laboratório (20%) + projeto (50%) \n",
    "\n",
    "__Linguagem__\n",
    "\n",
    "O curso será apresentado em Python 2.7 através da plataforma Jupyter.\n",
    "\n",
    "Para instalar o Python e o Jupyter use o Anaconda: http://jupyter.readthedocs.org/en/latest/install.html\n",
    "\n",
    "__Moodle__\n",
    "\n",
    "\n",
    "1. Se inscrever no moodle em: http://www.ideias.inf.puc-rio.br/aulas\n",
    "\n",
    "2. Confirmar a inscrição pelo email recebido. Caso não tenha recebido email, entre em contato com o professor.\n",
    "\n",
    "3. Entrar no moodle com login e senha escolhida.\n",
    "\n",
    "4. Pedir para entrar na disciplina INF1608 - Análise Numérica - 2017.1 - 3WA\n",
    "\n",
    "5. Fornecer a seguinte chave de inscrição (enrollment key): u1608_2017.1A\n",
    "* Caso tenha algum problema em efetuar sua inscrição ou entrar na área da disciplina, entre em contato com o professor."
   ]
  },
  {
   "cell_type": "markdown",
   "metadata": {},
   "source": [
    "## 2 - Primeiros passos com o Python\n",
    "\n",
    "Esse capítulo foi baseado no livro\n",
    "\n",
    "Kiusalaas, Jaan; Numerical Methods in Engineering with Python, Cambridge, 2010.\n",
    "\n",
    "\n",
    "__Variáveis__\n",
    "\n",
    "Na maioria das linguagens de programação, o nome da variável representa o valor de um certo tipo (caracter, inteiro, ponto flutuante, etc.) armazenado na memória. Nessas linguagens o valor pode ser alterado, mas não o tipo. Mas em Python as variáveis tem seus tipos definidos dinamicamente. A seguir mostraremos um exemplo onde as variáveis a e b estão sendo consideradas inicialmente como inteiras, mas que depois são transformadas em ponto flutuante. \n"
   ]
  },
  {
   "cell_type": "code",
   "execution_count": 1,
   "metadata": {
    "collapsed": false
   },
   "outputs": [
    {
     "name": "stdout",
     "output_type": "stream",
     "text": [
      "3\n",
      "1\n",
      "6.0\n",
      "0.333333333333\n"
     ]
    }
   ],
   "source": [
    "a = 3\n",
    "b = a % 2\n",
    "print a\n",
    "print b\n",
    "a *= 2.0\n",
    "b /= 3.0\n",
    "print a\n",
    "print b\n"
   ]
  },
  {
   "cell_type": "markdown",
   "metadata": {
    "collapsed": true
   },
   "source": [
    "__Cadeia de caracteres__\n",
    "\n",
    "Uma cadeia de caracteres (__string__) é uma sequência de caracteres limitados por uma ou duas aspas. Duas ou mais cadeias podem ser concatenadas através do operador (+).\n"
   ]
  },
  {
   "cell_type": "code",
   "execution_count": 3,
   "metadata": {
    "collapsed": false
   },
   "outputs": [
    {
     "name": "stdout",
     "output_type": "stream",
     "text": [
      "Pontifícia Universidade Católica do Rio de Janeiro\n"
     ]
    }
   ],
   "source": [
    "string1 = 'Pontifícia Universidade Católica'\n",
    "string2 = 'do Rio de Janeiro'\n",
    "print string1 + ' ' + string2 # Concatenation"
   ]
  },
  {
   "cell_type": "markdown",
   "metadata": {},
   "source": [
    "Para acessar uma subsequencia de uma cadeia de caracteres utiliza-se o operator (:). "
   ]
  },
  {
   "cell_type": "code",
   "execution_count": 5,
   "metadata": {
    "collapsed": false
   },
   "outputs": [
    {
     "name": "stdout",
     "output_type": "stream",
     "text": [
      "Rio d\n"
     ]
    }
   ],
   "source": [
    "string3 = string2[3:8]\n",
    "print string3"
   ]
  },
  {
   "cell_type": "markdown",
   "metadata": {},
   "source": [
    "Uma cadeia de caracteres é um objeto imutável, isto é, seus caracteres não podem ser modificados através de um atribuição individual e também não é possível modificar o seu tamanho. Qualquer tentativa de violação dessas regras vai gerar em TypeError."
   ]
  },
  {
   "cell_type": "code",
   "execution_count": 6,
   "metadata": {
    "collapsed": false
   },
   "outputs": [
    {
     "ename": "TypeError",
     "evalue": "'str' object does not support item assignment",
     "output_type": "error",
     "traceback": [
      "\u001b[0;31m---------------------------------------------------------------------------\u001b[0m",
      "\u001b[0;31mTypeError\u001b[0m                                 Traceback (most recent call last)",
      "\u001b[0;32m<ipython-input-6-c49f6f097282>\u001b[0m in \u001b[0;36m<module>\u001b[0;34m()\u001b[0m\n\u001b[0;32m----> 1\u001b[0;31m \u001b[0mstring3\u001b[0m\u001b[0;34m[\u001b[0m\u001b[0;36m1\u001b[0m\u001b[0;34m]\u001b[0m \u001b[0;34m=\u001b[0m \u001b[0;34m'o'\u001b[0m\u001b[0;34m\u001b[0m\u001b[0m\n\u001b[0m",
      "\u001b[0;31mTypeError\u001b[0m: 'str' object does not support item assignment"
     ]
    }
   ],
   "source": [
    "string3[1] = 'o'"
   ]
  },
  {
   "cell_type": "markdown",
   "metadata": {},
   "source": [
    "O tamanho da cadeia pode ser acessado utilizando a função len()."
   ]
  },
  {
   "cell_type": "code",
   "execution_count": 9,
   "metadata": {
    "collapsed": false
   },
   "outputs": [
    {
     "name": "stdout",
     "output_type": "stream",
     "text": [
      "Rio d\n"
     ]
    },
    {
     "data": {
      "text/plain": [
       "5"
      ]
     },
     "execution_count": 9,
     "metadata": {},
     "output_type": "execute_result"
    }
   ],
   "source": [
    "print string3 \n",
    "len(string3)\n"
   ]
  },
  {
   "cell_type": "markdown",
   "metadata": {},
   "source": [
    "__Tuplas__\n",
    "\n",
    "Uma tupla é uma sequência de objetos arbitrários separados por vírgulas e limitados por parênteses. Se a tupla contem somente um objeto, então é necessário uma vírgula no final. As tuplas suportam as mesmas operações que as cadeias de caracteres, e elas também são imutáveis."
   ]
  },
  {
   "cell_type": "code",
   "execution_count": 12,
   "metadata": {
    "collapsed": false
   },
   "outputs": [
    {
     "name": "stdout",
     "output_type": "stream",
     "text": [
      "Helio\n",
      "4/2/1968\n",
      "Helio Lopes\n",
      "('Lopes', 'Helio')\n",
      "('Lopes',)\n"
     ]
    }
   ],
   "source": [
    "rec = ('Lopes','Helio',(4,2,1968)) # Isto é uma tupla\n",
    "lastName,firstName,birthdate = rec # Desmembrando a tupla\n",
    "print firstName\n",
    "\n",
    "birthYear = birthdate[2]\n",
    "birthMonth = birthdate[1]\n",
    "birthDay = birthdate[0]\n",
    "print str(birthDay) + '/' + str(birthMonth) + '/' + str(birthYear)\n",
    "\n",
    "name = rec[1] + ' ' + rec[0]\n",
    "print name\n",
    "\n",
    "print rec[0:2]\n",
    "\n",
    "print rec[0:1]\n"
   ]
  },
  {
   "cell_type": "markdown",
   "metadata": {},
   "source": [
    "No código acima a função str() converteu o número inteiro para uma string."
   ]
  },
  {
   "cell_type": "markdown",
   "metadata": {},
   "source": [
    "__Listas__\n",
    "\n",
    "Uma lista é similar a uma tupla, porém ela é mutavel, e com isso: seus elementos e o seu tamanho podem ser alterados. Uma lista é limitada por colchetes. Segue um código com exemplos de como se manipula uma lista em Python:"
   ]
  },
  {
   "cell_type": "code",
   "execution_count": 21,
   "metadata": {
    "collapsed": false
   },
   "outputs": [
    {
     "name": "stdout",
     "output_type": "stream",
     "text": [
      "[1.0, 2.0, 3.0]\n",
      "[1.0, 2.0, 3.0, 4.0]\n",
      "[0.0, 1.0, 2.0, 3.0, 4.0]\n",
      "5\n",
      "[0.0, 1.0, 1.0, 1.0, 4.0]\n"
     ]
    }
   ],
   "source": [
    "a = [1.0, 2.0, 3.0] # Cria uma lista\n",
    "print a\n",
    "\n",
    "a.append(4.0) # Insere no final o número 4.0 na lista\n",
    "print a\n",
    "\n",
    "a.insert(0,0.0) # Insere 0.0 na posição 0 da lista\n",
    "print a\n",
    "print len(a) # Determina o tamanho da lista\n",
    "\n",
    "a[2:4] = [1.0,1.0] # Modifica os elementos indicados\n",
    "print a"
   ]
  },
  {
   "cell_type": "markdown",
   "metadata": {},
   "source": [
    "Como a é um objeto mutável, então o comando de atribuição b = a não cria um novo objeto b, pois simplesmente esse comando cria uma nova referência ao objeto a. Portanto, qualquer modificação feita na variável b vai afetar a variável a. Para criar uma cópia da lista a, use por exemplo o comando c = a[:]:"
   ]
  },
  {
   "cell_type": "code",
   "execution_count": 26,
   "metadata": {
    "collapsed": false
   },
   "outputs": [
    {
     "name": "stdout",
     "output_type": "stream",
     "text": [
      "[1.0, 2.0, 3.0]\n",
      "[5.0, 2.0, 3.0]\n",
      "[5.0, 2.0]\n",
      "[5.0, 2.0, 3.0]\n",
      "[1.0, 2.0]\n"
     ]
    }
   ],
   "source": [
    "a = [1.0, 2.0, 3.0]\n",
    "print a\n",
    "b = a # ’b’ é uma referência para ’a’\n",
    "b[0] = 5.0 # Altera ’b’\n",
    "print a\n",
    "\n",
    "c = a[:2] # ’c’ é uma cópia independente de ’a’\n",
    "print c\n",
    "c[0] = 1.0 # Altera ’c’\n",
    "print a\n",
    "print c"
   ]
  },
  {
   "cell_type": "markdown",
   "metadata": {},
   "source": [
    "As matrizes podem ser representadas usando listas aninhadas, ou seja uma lista de linhas onde cada linha é também uma lista. "
   ]
  },
  {
   "cell_type": "code",
   "execution_count": 27,
   "metadata": {
    "collapsed": false
   },
   "outputs": [
    {
     "name": "stdout",
     "output_type": "stream",
     "text": [
      "[4, 5, 6]\n",
      "6\n"
     ]
    }
   ],
   "source": [
    "a = [[1, 2, 3], \\\n",
    "     [4, 5, 6], \\\n",
    "     [7, 8, 9]]\n",
    "\n",
    "print a[1] # Imprime a segunda linha (element 1)\n",
    "print a[1][2] # Imprime o terceiro elemento da segunda linha\n"
   ]
  },
  {
   "cell_type": "markdown",
   "metadata": {},
   "source": [
    "O backslash '\\' no Python’s representa um caracter de continuação. Lembre que nas sequências em Python começam pelo índice zero, portanto a[0] representa a primeira linha, a[1] a segunda linha, e assim por diante. Com raríssimas exceções representaremos uma matriz nessa forma, pois o mais adequado é usar o objeto array do módulo NumPy.\n",
    "O objeto array e o próprio módulo serão apresentados posteriormente."
   ]
  },
  {
   "cell_type": "markdown",
   "metadata": {},
   "source": [
    "__Operações aritméticas__\n",
    "\n",
    "O Python suporta as seguintes operações aritméticas:\n",
    "\n",
    "| Símbolo  | Operação   |\n",
    "|:-:|:-:|\n",
    "| +  | Adição    |\n",
    "| −  | Subtração |\n",
    "| ∗  |Multiplicação |\n",
    "| /  |Divisão |\n",
    "| ∗∗ | Exponenciação |\n",
    "| % | Divisão Modular |\n",
    "\n"
   ]
  },
  {
   "cell_type": "code",
   "execution_count": 28,
   "metadata": {
    "collapsed": false
   },
   "outputs": [
    {
     "name": "stdout",
     "output_type": "stream",
     "text": [
      "1.25992104989\n",
      "1\n",
      "1.5\n",
      "2\n"
     ]
    }
   ],
   "source": [
    "print 2.0**(1/3.0)\n",
    "print 3/2\n",
    "print 3/2.0\n",
    "print 5%3"
   ]
  },
  {
   "cell_type": "markdown",
   "metadata": {
    "collapsed": true
   },
   "source": [
    "__Operadores de comparação__\n",
    "\n",
    "Os operadores de comparação relacionais retornam 1 se for verdadeiro ou 0 quase contrário. Esses operadores são:\n",
    "\n",
    "| Símbolo  | Operadores relacionais   |\n",
    "|:-:|:-:|\n",
    "| < | menor que |\n",
    "| > | maior que |\n",
    "| <= | menor que ou igual a|\n",
    "| >= | menor que ou igual a|\n",
    "| == | igual a |\n",
    "| != | diferente a |\n",
    "\n",
    "Números de diferentes tipos (inteiros, ponto flutuante, etc.) serão convertidos a um tipo comum antes da comparação ser feita. Por outro lado, objetos de diferente tipos serão considerados diferentes. Seguem alguns exemplos:"
   ]
  },
  {
   "cell_type": "code",
   "execution_count": 29,
   "metadata": {
    "collapsed": false
   },
   "outputs": [
    {
     "name": "stdout",
     "output_type": "stream",
     "text": [
      "True\n",
      "False\n",
      "True\n",
      "True\n"
     ]
    }
   ],
   "source": [
    "a = 2 # Inteiro\n",
    "b = 1.99 # Ponto flutuante\n",
    "c = '2' # String\n",
    "print a > b\n",
    "print a == c\n",
    "print (a > b) and (a != c)\n",
    "print (a > b) or (a == b)"
   ]
  },
  {
   "cell_type": "markdown",
   "metadata": {},
   "source": [
    "__Condicionais__\n",
    "\n",
    "O comando condicional if é definido da seguinte forma:\n",
    "\n",
    "__if__ condição:\n",
    "    \n",
    "    bloco\n",
    "    \n",
    "Ele executa o bloco de comandos (que precisam estar indentados) se a condição é verdadeira.\n",
    "\n",
    "Se a condição é falsa, então o bloco é pulado. \n",
    "\n",
    "O condicional if pode ser aninhado por um número arbitrário de outros condicionais, através do comando elif (abreviatura para \"else if\"):\n",
    "\n",
    "__elif__ condition:\n",
    "    \n",
    "    bloco\n",
    "\n",
    "O comando else tem a seguinte construção:\n",
    "\n",
    "__else:__\n",
    "    \n",
    "    bloco"
   ]
  },
  {
   "cell_type": "code",
   "execution_count": 33,
   "metadata": {
    "collapsed": false
   },
   "outputs": [
    {
     "name": "stdout",
     "output_type": "stream",
     "text": [
      "a is positive\n"
     ]
    }
   ],
   "source": [
    "def sign_of_a(a):\n",
    "    if a < 0.0:\n",
    "        sign = 'negative'\n",
    "    elif a > 0.0:\n",
    "        sign = 'positive'\n",
    "    else:\n",
    "        sign = 'zero'\n",
    "    return sign\n",
    "\n",
    "a = 1.5\n",
    "print 'a is ' + sign_of_a(a)\n"
   ]
  },
  {
   "cell_type": "markdown",
   "metadata": {
    "collapsed": true
   },
   "source": [
    "__Laços__\n",
    "\n",
    "Para os laços, temos os seguintes comandos:\n",
    "\n",
    "__while__ condição:\n",
    "\n",
    "    bloco\n",
    "    \n"
   ]
  },
  {
   "cell_type": "code",
   "execution_count": 34,
   "metadata": {
    "collapsed": false
   },
   "outputs": [
    {
     "name": "stdout",
     "output_type": "stream",
     "text": [
      "[1.0, 0.5, 0.3333333333333333, 0.25]\n"
     ]
    }
   ],
   "source": [
    "nMax = 5\n",
    "n = 1\n",
    "a = [] # Create empty list\n",
    "while n < nMax:\n",
    "    a.append(1.0/n) # Append element to list\n",
    "    n = n + 1\n",
    "print a\n"
   ]
  },
  {
   "cell_type": "markdown",
   "metadata": {},
   "source": [
    "O comando for requer um indexador e uma sequência (usualmente uma lista) sob o qual o indexador varia. \n",
    "\n",
    "__for__ indexador __in__ sequência:\n",
    "\n",
    "    block"
   ]
  },
  {
   "cell_type": "code",
   "execution_count": 35,
   "metadata": {
    "collapsed": false
   },
   "outputs": [
    {
     "name": "stdout",
     "output_type": "stream",
     "text": [
      "[1, 2, 3, 4]\n",
      "[1.0, 0.5, 0.3333333333333333, 0.25]\n"
     ]
    }
   ],
   "source": [
    "nMax = 5\n",
    "a = []\n",
    "print range(1,nMax)\n",
    "for n in range(1,nMax):\n",
    "    a.append(1.0/n)\n",
    "print a"
   ]
  },
  {
   "cell_type": "markdown",
   "metadata": {},
   "source": [
    "Os comandos __while__ e __for__ podem ser parados com o uso do comando __break__. Existe também o comando _else_ para os laços."
   ]
  },
  {
   "cell_type": "code",
   "execution_count": 37,
   "metadata": {
    "collapsed": false
   },
   "outputs": [
    {
     "name": "stdout",
     "output_type": "stream",
     "text": [
      "Digite um nome: Luis\n",
      "Luis nao esta na lista!\n"
     ]
    }
   ],
   "source": [
    "list = ['Huguinho', 'Zezinho', 'Luisinho']\n",
    "name = raw_input('Digite um nome: ') # Python input prompt\n",
    "for i in range(len(list)):\n",
    "    if list[i] == name:\n",
    "        print name,'tem indice',i,'na lista.'\n",
    "        break\n",
    "else:\n",
    "    print name,'nao esta na lista!'"
   ]
  },
  {
   "cell_type": "markdown",
   "metadata": {},
   "source": [
    "O comando __continue__ permite pularmos uma parte da execução de um bloco num laço.\n",
    "Ao executar um __continue__, o interpretador irá retornar imediatamente para o início do laço sem executar os comandos abaixo do __continue__."
   ]
  },
  {
   "cell_type": "code",
   "execution_count": 38,
   "metadata": {
    "collapsed": false
   },
   "outputs": [
    {
     "name": "stdout",
     "output_type": "stream",
     "text": [
      "[7, 14, 21, 28, 35, 42, 49, 56, 63, 70, 77, 84, 91, 98]\n"
     ]
    }
   ],
   "source": [
    "x = [] # Create an empty list\n",
    "for i in range(1,100):\n",
    "    if i%7!= 0: \n",
    "        continue # If not divisible by 7, skip rest of loop\n",
    "    x.append(i) # Append i to the list\n",
    "print x"
   ]
  },
  {
   "cell_type": "markdown",
   "metadata": {},
   "source": [
    "__Conversão entre tipos__\n",
    "\n",
    "Se uma operação aritmética envolve números de diferente tipos, então os números são automaticamente convertidos para um tipo comum antes da operação ser executada.\n",
    "\n",
    "Conversão entre tipos podem também ser efetuadas através dos seguitnes comandos:\n",
    "\n",
    "| comando  | operação   |\n",
    "|:-:|:-:|\n",
    "| int(a) |Converte a para um integer |\n",
    "| long(a) | Converte a para um long integer |\n",
    "| float(a)| Converte a para um  floating point |\n",
    "| complex(a) | Converte para um complex a + 0j |\n",
    "| complex(a,b) | Converte para um complex a +bj |\n",
    "\n",
    "Essas funções também funcionam para converter strings para um número, se o conteúdo da string for um número válido. A conversão de um float para um integer é feito usando um truncamento, e não por um arredondamento. "
   ]
  },
  {
   "cell_type": "code",
   "execution_count": 43,
   "metadata": {
    "collapsed": false
   },
   "outputs": [
    {
     "name": "stdout",
     "output_type": "stream",
     "text": [
      "1.4\n",
      "-3\n",
      "(5-3.6j)\n",
      "4.0\n",
      "4\n"
     ]
    }
   ],
   "source": [
    "a = 5\n",
    "b = -3.6\n",
    "d = '4'\n",
    "\n",
    "print a + b\n",
    "print int(b)\n",
    "print complex(a,b)\n",
    "print float(d)\n",
    "print int(d)"
   ]
  },
  {
   "cell_type": "markdown",
   "metadata": {},
   "source": [
    "__Funções matemáticas básicas__\n",
    "\n",
    "O Python, em sua definição básica, disponibiliza algumas funções matemáticas básicas, são elas:\n",
    "\n",
    "\n",
    "| comando  | função   |\n",
    "|:-:|:-:|\n",
    "| abs(a) | Valor absoluto de a |\n",
    "| max(sequencia) | retorna o maior elemento da sequencia |\n",
    "| min(sequencia) | retorna o menor elemento da sequencia |\n",
    "| round(a,n) | Retorna o arredondamento de a na n-ésima casa decimal |\n",
    "| cmp(a,b) | Retorna -1 se a < b, 0 se a == b, ou 1 se a > b |\n",
    "\n",
    "A grande maioria das funções matemáticas estão disponíveis no módulo __math__, que será apresentado mais a frente."
   ]
  },
  {
   "cell_type": "markdown",
   "metadata": {},
   "source": [
    "__Entrada pelo teclado__\n",
    "\n",
    "A função intrínsica que faz a entrada pelo teclado é __raw input(prompt)__.\n",
    "Ela mostra o __prompt__ e então lê uma linha que é convertida para uma string. \n",
    "Para converter a string para um valor numérico, use a função __eval(string)__.\n"
   ]
  },
  {
   "cell_type": "code",
   "execution_count": 45,
   "metadata": {
    "collapsed": false
   },
   "outputs": [
    {
     "name": "stdout",
     "output_type": "stream",
     "text": [
      "Input a: 2\n",
      "2 <type 'str'>\n",
      "2 <type 'int'>\n"
     ]
    }
   ],
   "source": [
    "a = raw_input('Input a: ')\n",
    "print a, type(a) # Print a and its type\n",
    "b = eval(a)\n",
    "print b,type(b) # Print b and its type"
   ]
  },
  {
   "cell_type": "markdown",
   "metadata": {},
   "source": [
    "__Imprimindo na tela__\n",
    "\n",
    "A saída é feita através do comando\n",
    "\n",
    "__print__ objeto1, objeto2, . . .\n",
    "\n",
    "que converte objeto1, objeto2, e assim por diante para strings e as imprime na mesma linha,\n",
    "separados por espaços. \n",
    "\n",
    "O caracter newline '\\n' pode ser usado para forçar uma nova linha. \n",
    "\n"
   ]
  },
  {
   "cell_type": "code",
   "execution_count": 46,
   "metadata": {
    "collapsed": false
   },
   "outputs": [
    {
     "name": "stdout",
     "output_type": "stream",
     "text": [
      "1234.56789 [2, 4, 6, 8]\n",
      "a = 1234.56789 \n",
      "b = [2, 4, 6, 8]\n"
     ]
    }
   ],
   "source": [
    "a = 1234.56789\n",
    "b = [2, 4, 6, 8]\n",
    "print a,b\n",
    "print 'a =',a, '\\nb =',b"
   ]
  },
  {
   "cell_type": "markdown",
   "metadata": {},
   "source": [
    "O operador (%) pode ser usado para formato a tupla da seguinte forma:\n",
    "\n",
    "'%format1 %format2 · · ·' % tupla\n",
    "\n",
    "onde format1, format2 · · · são as especificações de formato para cada objeto na tupla.\n",
    "\n",
    "As especificações dos formatos que são tipicamente usados são:\n",
    "\n",
    "\n",
    "| especificação  |  formato  |\n",
    "|:-:|:-:|\n",
    "| _w_ d | Integer |\n",
    "| _w_._d_ f |Floating point notation |\n",
    "| _w_._d_ e | Exponential notation |\n",
    "\n",
    "onde _w_ é o tamanho do campo e _d_ é o número de dígitos depois do ponto decimal.\n",
    "\n",
    "A saída é por default justificada a direita no campo específico e preenchidos com espaços em brancos."
   ]
  },
  {
   "cell_type": "code",
   "execution_count": 47,
   "metadata": {
    "collapsed": false
   },
   "outputs": [
    {
     "name": "stdout",
     "output_type": "stream",
     "text": [
      "1234.57\n",
      "n =   9876\n",
      "n = 009876\n",
      "  1.2346e+03   9876\n"
     ]
    }
   ],
   "source": [
    "a = 1234.56789\n",
    "n = 9876\n",
    "print '%7.2f' % a\n",
    "print 'n = %6d' % n # Pad with spaces\n",
    "print 'n = %06d' % n # Pad with zeroes\n",
    "print '%12.4e %6d' % (a,n)"
   ]
  },
  {
   "cell_type": "markdown",
   "metadata": {
    "collapsed": true
   },
   "source": [
    "__Funções__\n",
    "\n",
    "A estrutura de uma função em Python function é a seguinte:\n",
    "\n",
    "__def__ func_name(param1, param2,. . .):\n",
    "\n",
    "    statements\n",
    "    return return_values\n",
    "\n",
    "onde param1, param2,. . . são os parâmetros da função, que podem ser qualquer objeto Python (inclusive uma outra função). \n",
    "\n",
    "Podemos atribuir valores default para os parâmetros, e nesse caso a passagem desse parâmetro é opcional.\n",
    "\n",
    "Se o comando de __return__ for omitido na função, ela retornará um objeto nulo.\n"
   ]
  },
  {
   "cell_type": "code",
   "execution_count": null,
   "metadata": {
    "collapsed": false
   },
   "outputs": [],
   "source": [
    "from math import atan\n",
    "def finite_diff(f,x,h=0.0001): # h has a default value\n",
    "    df =(f(x+h) - f(x-h))/(2.0*h)\n",
    "    ddf =(f(x+h) - 2.0*f(x) + f(x-h))/h**2\n",
    "    return df,ddf\n",
    "\n",
    "x = 0.5\n",
    "df,ddf = finite_diff(atan,x) # Uses default value of h\n",
    "print 'First derivative =',df\n",
    "print 'Second derivative =',ddf"
   ]
  },
  {
   "cell_type": "markdown",
   "metadata": {},
   "source": [
    "O número de parâmetros de entrada numa função pode ser arbitrário.\n",
    "Por exemplo, na definição da função \n",
    "\n",
    "def func(x1,x2,*x3)\n",
    "\n",
    "x1 e x2 são os parâmetros usuais, porém x3 é uma tupla de tamanho arbitrário que armazena todos os outros parâmetros.\n",
    "\n",
    "Ao chamar essa função na forma:\n",
    "\n",
    "func(a,b,c,d,e)\n",
    "\n",
    "irá resultar na seguinte correspondência entre os parâmetros:\n",
    "\n",
    "a <-> x1, \n",
    "b <-> x2, \n",
    "(c,d,e) <-> x3\n",
    "\n",
    "Quando um objeto mutável é passado por parâmetro para uma função que o modifica, então o objeto será modificado no programa que o chamou.\n"
   ]
  },
  {
   "cell_type": "code",
   "execution_count": 2,
   "metadata": {
    "collapsed": false
   },
   "outputs": [
    {
     "name": "stdout",
     "output_type": "stream",
     "text": [
      "[1, 4, 9, 16]\n"
     ]
    }
   ],
   "source": [
    "def squares(a):\n",
    "    for i in range(len(a)):\n",
    "        a[i] = a[i]**2\n",
    "        \n",
    "a = [1,2,3,4]\n",
    "squares(a)\n",
    "print a"
   ]
  },
  {
   "cell_type": "markdown",
   "metadata": {},
   "source": [
    "__Comandos Lambda__\n",
    "\n",
    "\n",
    "Se uma função tem a forma de uma expressão, então ela pode ser definida como um comando lambda:\n",
    "\n",
    "func name = __lambda__ param1, param2,...: expression\n"
   ]
  },
  {
   "cell_type": "code",
   "execution_count": null,
   "metadata": {
    "collapsed": false
   },
   "outputs": [],
   "source": [
    "c = lambda x,y : x**2 + y**2\n",
    "print c(3,4)"
   ]
  },
  {
   "cell_type": "markdown",
   "metadata": {},
   "source": [
    "__Módulo math__\n",
    "\n",
    "A maioria das funções matemáticas estão disponíveis no módulo __math__, que deve ser carregado explicitamente.\n",
    "\n",
    "O comando\n",
    "\n",
    "__from__ math __import__ *\n",
    "\n",
    "carrega todas as definições de funções do módulo __math__. Isso não é tão aconselhável não só pleo uso excessivo de memória, mas também pode gerar conflitos com funções de outros módulos.\n",
    "\n",
    "Uma maneira mais adequada seria usar o comando:\n",
    "\n",
    "__from__ math __import__ func1, func2, . . .\n"
   ]
  },
  {
   "cell_type": "code",
   "execution_count": null,
   "metadata": {
    "collapsed": false
   },
   "outputs": [],
   "source": [
    "from math import log,sin\n",
    "print log(sin(0.5))"
   ]
  },
  {
   "cell_type": "markdown",
   "metadata": {},
   "source": [
    "Uma terceira opção, que é bastante usada, é deixar o módulo disponível através do comando:\n",
    "\n",
    "__import__ math\n",
    "\n",
    "Assim as funções do módulo seriam chamadas colocando o prefixo math:"
   ]
  },
  {
   "cell_type": "code",
   "execution_count": null,
   "metadata": {
    "collapsed": false
   },
   "outputs": [],
   "source": [
    "import math\n",
    "print math.log(math.sin(0.5))"
   ]
  },
  {
   "cell_type": "code",
   "execution_count": null,
   "metadata": {
    "collapsed": false
   },
   "outputs": [],
   "source": [
    "dir(math) # imprime o conteúdo do módulo math"
   ]
  },
  {
   "cell_type": "markdown",
   "metadata": {},
   "source": [
    "Exemplo de uso da função __trunc__ para obter o truncamento de $\\sqrt{2}$ na 2a casa decimal."
   ]
  },
  {
   "cell_type": "code",
   "execution_count": null,
   "metadata": {
    "collapsed": false
   },
   "outputs": [],
   "source": [
    "import math\n",
    "# Magic function to make matplotlib inline; other style specs must come AFTER\n",
    "math.trunc(100.0*math.sqrt(2.0))/100.0"
   ]
  },
  {
   "cell_type": "markdown",
   "metadata": {},
   "source": [
    "__Gerando gráficos com o módulo matplotlib__\n",
    "\n",
    "O módulo __matplotlib__ permite desenharmos gráficos com muita facilidade. \n",
    "\n",
    "Uma descrição detalhada e vários exemplos de uso podem ser encontrados no site:\n",
    "\n",
    "http://matplotlib.org/"
   ]
  },
  {
   "cell_type": "code",
   "execution_count": 2,
   "metadata": {
    "collapsed": false
   },
   "outputs": [
    {
     "data": {
      "text/plain": [
       "<matplotlib.text.Text at 0x10eaf54d0>"
      ]
     },
     "execution_count": 2,
     "metadata": {},
     "output_type": "execute_result"
    },
    {
     "data": {
      "image/png": "[encoded data removed]",
      "text/plain": [
       "<matplotlib.figure.Figure at 0x109831d50>"
      ]
     },
     "metadata": {},
     "output_type": "display_data"
    }
   ],
   "source": [
    "import numpy as np\n",
    "import matplotlib \n",
    "import matplotlib.pylab as plt\n",
    "\n",
    "%matplotlib inline\n",
    "\n",
    "# Generate data to plot\n",
    "x = np.linspace(0, 2 * np.pi, 200)\n",
    "y = np.exp(np.sin(np.sin(x)))\n",
    "\n",
    "# Make plot\n",
    "plt.plot(x, y)\n",
    "plt.xlim((0, 2 * np.pi))\n",
    "plt.xlabel(r'$x$')\n",
    "plt.ylabel(r'$\\mathrm{e}^{\\sin(\\sin{x})}$')\n"
   ]
  },
  {
   "cell_type": "code",
   "execution_count": 2,
   "metadata": {
    "collapsed": false
   },
   "outputs": [
    {
     "data": {
      "text/html": [
       "\n",
       "    <div class=\"bk-banner\">\n",
       "        <a href=\"http://bokeh.pydata.org\" target=\"_blank\" class=\"bk-logo bk-logo-small bk-logo-notebook\"></a>\n",
       "        <span id=\"8dd9d018-13f3-4cf6-ad3b-d1eca7a88240\">Loading BokehJS ...</span>\n",
       "    </div>"
      ]
     },
     "metadata": {},
     "output_type": "display_data"
    },
    {
     "data": {
      "application/javascript": [
       "\n",
       "(function(global) {\n",
       "  function now() {\n",
       "    return new Date();\n",
       "  }\n",
       "\n",
       "  if (typeof (window._bokeh_onload_callbacks) === \"undefined\") {\n",
       "    window._bokeh_onload_callbacks = [];\n",
       "  }\n",
       "\n",
       "  function run_callbacks() {\n",
       "    window._bokeh_onload_callbacks.forEach(function(callback) { callback() });\n",
       "    delete window._bokeh_onload_callbacks\n",
       "    console.info(\"Bokeh: all callbacks have finished\");\n",
       "  }\n",
       "\n",
       "  function load_libs(js_urls, callback) {\n",
       "    window._bokeh_onload_callbacks.push(callback);\n",
       "    if (window._bokeh_is_loading > 0) {\n",
       "      console.log(\"Bokeh: BokehJS is being loaded, scheduling callback at\", now());\n",
       "      return null;\n",
       "    }\n",
       "    if (js_urls == null || js_urls.length === 0) {\n",
       "      run_callbacks();\n",
       "      return null;\n",
       "    }\n",
       "    console.log(\"Bokeh: BokehJS not loaded, scheduling load and callback at\", now());\n",
       "    window._bokeh_is_loading = js_urls.length;\n",
       "    for (var i = 0; i < js_urls.length; i++) {\n",
       "      var url = js_urls[i];\n",
       "      var s = document.createElement('script');\n",
       "      s.src = url;\n",
       "      s.async = false;\n",
       "      s.onreadystatechange = s.onload = function() {\n",
       "        window._bokeh_is_loading--;\n",
       "        if (window._bokeh_is_loading === 0) {\n",
       "          console.log(\"Bokeh: all BokehJS libraries loaded\");\n",
       "          run_callbacks()\n",
       "        }\n",
       "      };\n",
       "      s.onerror = function() {\n",
       "        console.warn(\"failed to load library \" + url);\n",
       "      };\n",
       "      console.log(\"Bokeh: injecting script tag for BokehJS library: \", url);\n",
       "      document.getElementsByTagName(\"head\")[0].appendChild(s);\n",
       "    }\n",
       "  };\n",
       "\n",
       "  var js_urls = ['https://cdn.pydata.org/bokeh/release/bokeh-0.11.1.min.js', 'https://cdn.pydata.org/bokeh/release/bokeh-widgets-0.11.1.min.js', 'https://cdn.pydata.org/bokeh/release/bokeh-compiler-0.11.1.min.js'];\n",
       "\n",
       "  var inline_js = [\n",
       "    function(Bokeh) {\n",
       "      Bokeh.set_log_level(\"info\");\n",
       "    },\n",
       "    \n",
       "    function(Bokeh) {\n",
       "      Bokeh.$(\"#8dd9d018-13f3-4cf6-ad3b-d1eca7a88240\").text(\"BokehJS successfully loaded\");\n",
       "    },\n",
       "    function(Bokeh) {\n",
       "      console.log(\"Bokeh: injecting CSS: https://cdn.pydata.org/bokeh/release/bokeh-0.11.1.min.css\");\n",
       "      Bokeh.embed.inject_css(\"https://cdn.pydata.org/bokeh/release/bokeh-0.11.1.min.css\");\n",
       "      console.log(\"Bokeh: injecting CSS: https://cdn.pydata.org/bokeh/release/bokeh-widgets-0.11.1.min.css\");\n",
       "      Bokeh.embed.inject_css(\"https://cdn.pydata.org/bokeh/release/bokeh-widgets-0.11.1.min.css\");\n",
       "    }\n",
       "  ];\n",
       "\n",
       "  function run_inline_js() {\n",
       "    for (var i = 0; i < inline_js.length; i++) {\n",
       "      inline_js[i](window.Bokeh);\n",
       "    }\n",
       "  }\n",
       "\n",
       "  if (window._bokeh_is_loading === 0) {\n",
       "    console.log(\"Bokeh: BokehJS loaded, going straight to plotting\");\n",
       "    run_inline_js();\n",
       "  } else {\n",
       "    load_libs(js_urls, function() {\n",
       "      console.log(\"Bokeh: BokehJS plotting callback run at\", now());\n",
       "      run_inline_js();\n",
       "    });\n",
       "  }\n",
       "}(this));"
      ]
     },
     "metadata": {},
     "output_type": "display_data"
    },
    {
     "data": {
      "text/html": [
       "\n",
       "\n",
       "    <div class=\"plotdiv\" id=\"08f43186-be5d-4e93-aa96-20261e4bb68d\"></div>\n",
       "<script type=\"text/javascript\">\n",
       "  \n",
       "  (function(global) {\n",
       "    function now() {\n",
       "      return new Date();\n",
       "    }\n",
       "  \n",
       "    if (typeof (window._bokeh_onload_callbacks) === \"undefined\") {\n",
       "      window._bokeh_onload_callbacks = [];\n",
       "    }\n",
       "  \n",
       "    function run_callbacks() {\n",
       "      window._bokeh_onload_callbacks.forEach(function(callback) { callback() });\n",
       "      delete window._bokeh_onload_callbacks\n",
       "      console.info(\"Bokeh: all callbacks have finished\");\n",
       "    }\n",
       "  \n",
       "    function load_libs(js_urls, callback) {\n",
       "      window._bokeh_onload_callbacks.push(callback);\n",
       "      if (window._bokeh_is_loading > 0) {\n",
       "        console.log(\"Bokeh: BokehJS is being loaded, scheduling callback at\", now());\n",
       "        return null;\n",
       "      }\n",
       "      if (js_urls == null || js_urls.length === 0) {\n",
       "        run_callbacks();\n",
       "        return null;\n",
       "      }\n",
       "      console.log(\"Bokeh: BokehJS not loaded, scheduling load and callback at\", now());\n",
       "      window._bokeh_is_loading = js_urls.length;\n",
       "      for (var i = 0; i < js_urls.length; i++) {\n",
       "        var url = js_urls[i];\n",
       "        var s = document.createElement('script');\n",
       "        s.src = url;\n",
       "        s.async = false;\n",
       "        s.onreadystatechange = s.onload = function() {\n",
       "          window._bokeh_is_loading--;\n",
       "          if (window._bokeh_is_loading === 0) {\n",
       "            console.log(\"Bokeh: all BokehJS libraries loaded\");\n",
       "            run_callbacks()\n",
       "          }\n",
       "        };\n",
       "        s.onerror = function() {\n",
       "          console.warn(\"failed to load library \" + url);\n",
       "        };\n",
       "        console.log(\"Bokeh: injecting script tag for BokehJS library: \", url);\n",
       "        document.getElementsByTagName(\"head\")[0].appendChild(s);\n",
       "      }\n",
       "    };var element = document.getElementById(\"08f43186-be5d-4e93-aa96-20261e4bb68d\");\n",
       "    if (element == null) {\n",
       "      console.log(\"Bokeh: ERROR: autoload.js configured with elementid '08f43186-be5d-4e93-aa96-20261e4bb68d' but no matching script tag was found. \")\n",
       "      return false;\n",
       "    }\n",
       "  \n",
       "    var js_urls = [];\n",
       "  \n",
       "    var inline_js = [\n",
       "      function(Bokeh) {\n",
       "        Bokeh.$(function() {\n",
       "            var docs_json = {\"59300c6d-4cf8-4e59-8ead-caa0ccbb692c\":{\"roots\":{\"references\":[{\"attributes\":{},\"id\":\"2645ef1e-9589-4384-956a-c5fd16388905\",\"type\":\"ToolEvents\"},{\"attributes\":{},\"id\":\"83154f23-dd93-4802-a54f-a92ae67816e2\",\"type\":\"BasicTickFormatter\"},{\"attributes\":{\"bottom_units\":\"screen\",\"fill_alpha\":{\"value\":0.5},\"fill_color\":{\"value\":\"lightgrey\"},\"left_units\":\"screen\",\"level\":\"overlay\",\"line_alpha\":{\"value\":1.0},\"line_color\":{\"value\":\"black\"},\"line_dash\":[4,4],\"line_width\":{\"value\":2},\"plot\":null,\"render_mode\":\"css\",\"right_units\":\"screen\",\"top_units\":\"screen\"},\"id\":\"752d6d5e-7713-4a3b-9be5-c045e8eac1b3\",\"type\":\"BoxAnnotation\"},{\"attributes\":{\"callback\":null,\"column_names\":[\"Series 0\",\"Series 1\"],\"data\":{\"Series 0\":[0.0,0.03157379551346526,0.06314759102693052,0.09472138654039577,0.12629518205386103,0.1578689775673263,0.18944277308079155,0.2210165685942568,0.25259036410772207,0.28416415962118735,0.3157379551346526,0.3473117506481178,0.3788855461615831,0.4104593416750484,0.4420331371885136,0.47360693270197884,0.5051807282154441,0.5367545237289094,0.5683283192423747,0.5999021147558399,0.6314759102693052,0.6630497057827704,0.6946235012962356,0.7261972968097009,0.7577710923231662,0.7893448878366315,0.8209186833500968,0.8524924788635619,0.8840662743770272,0.9156400698904925,0.9472138654039577,0.978787660917423,1.0103614564308883,1.0419352519443534,1.0735090474578188,1.105082842971284,1.1366566384847494,1.1682304339982146,1.1998042295116798,1.2313780250251452,1.2629518205386103,1.2945256160520755,1.326099411565541,1.357673207079006,1.3892470025924712,1.4208207981059366,1.4523945936194018,1.4839683891328672,1.5155421846463324,1.5471159801597976,1.578689775673263,1.6102635711867281,1.6418373667001935,1.6734111622136587,1.7049849577271239,1.7365587532405893,1.7681325487540545,1.7997063442675196,1.831280139780985,1.8628539352944502,1.8944277308079154,1.9260015263213808,1.957575321834846,1.9891491173483113,2.0207229128617765,2.0522967083752417,2.083870503888707,2.1154442994021725,2.1470180949156377,2.178591890429103,2.210165685942568,2.241739481456033,2.273313276969499,2.304887072482964,2.336460867996429,2.3680346635098943,2.3996084590233595,2.4311822545368247,2.4627560500502903,2.4943298455637555,2.5259036410772207,2.557477436590686,2.589051232104151,2.6206250276176166,2.652198823131082,2.683772618644547,2.715346414158012,2.7469202096714773,2.7784940051849425,2.810067800698408,2.8416415962118733,2.8732153917253385,2.9047891872388036,2.936362982752269,2.9679367782657344,2.9995105737791996,3.031084369292665,3.06265816480613,3.094231960319595,3.1258057558330608,3.157379551346526,3.188953346859991,3.2205271423734563,3.2521009378869215,3.283674733400387,3.3152485289138522,3.3468223244273174,3.3783961199407826,3.4099699154542478,3.441543710967713,3.4731175064811786,3.5046913019946437,3.536265097508109,3.567838893021574,3.5994126885350393,3.630986484048505,3.66256027956197,3.6941340750754352,3.7257078705889004,3.7572816661023656,3.7888554616158308,3.8204292571292964,3.8520030526427615,3.8835768481562267,3.915150643669692,3.946724439183157,3.9782982346966227,4.009872030210087,4.041445825723553,4.073019621237019,4.104593416750483,4.136167212263949,4.167741007777414,4.199314803290879,4.230888598804345,4.26246239431781,4.294036189831275,4.32560998534474,4.357183780858206,4.388757576371671,4.420331371885136,4.451905167398602,4.483478962912066,4.515052758425532,4.546626553938998,4.578200349452462,4.609774144965928,4.641347940479393,4.672921735992858,4.704495531506323,4.736069327019789,4.767643122533254,4.799216918046719,4.830790713560185,4.862364509073649,4.893938304587115,4.925512100100581,4.957085895614045,4.988659691127511,5.020233486640976,5.051807282154441,5.083381077667907,5.114954873181372,5.146528668694837,5.178102464208302,5.209676259721768,5.241250055235233,5.272823850748698,5.304397646262164,5.335971441775628,5.367545237289094,5.39911903280256,5.430692828316024,5.46226662382949,5.493840419342955,5.52541421485642,5.556988010369885,5.588561805883351,5.620135601396816,5.651709396910281,5.683283192423747,5.714856987937211,5.746430783450677,5.7780045789641425,5.809578374477607,5.841152169991073,5.872725965504538,5.904299761018003,5.935873556531469,5.967447352044934,5.999021147558399,6.030594943071864,6.06216873858533,6.093742534098795,6.12531632961226,6.1568901251257255,6.18846392063919,6.220037716152656,6.2516115116661215,6.283185307179586],\"Series 1\":[1.0,1.032066710193193,1.06509474236811,1.0990419686856636,1.1338590385547467,1.1694893717009793,1.205869249714291,1.2429280116798642,1.280588357317169,1.3187667585826122,1.357373978003129,1.3963156891872375,1.43549319210542,1.4748042129503036,1.514143775788897,1.5534051309114774,1.5924807228633204,1.631263179701016,1.66964630411034,1.70752604670041,1.7448014420667224,1.781375489084834,1.8171559583223198,1.852056111380977,1.8859953193255117,1.9188995700251097,1.950701857125769,1.9813424463750258,2.010769018028521,2.0389366869778813,2.0658079049604496,2.0913522516668555,2.115546123692352,2.1383723320407357,2.159819620262366,2.1798821162847855,2.1985587315862603,2.2158525215932507,2.231770021087363,2.24632056802842,2.2595156285854032,2.2713681353654755,2.28189184989156,2.291100759346508,2.299008516517379,2.3056279307712333,2.310970516801643,2.3150461068229617,2.3178625308700562,2.31942536889049,2.3197377773935446,2.318800392540108,2.316611310709119,2.313166146746749,2.3084581692788193,2.3024785116298387,2.2952164560291717,2.286659787884421,2.276795215955854,2.2656088532703764,2.253086752571653,2.2392154890237497,2.2239827817855113,2.2073781449757166,2.1893935574858236,2.1700241401056295,2.149268827550617,2.1271310222653583,2.1036192163743417,2.0787475679086995,2.0525364174999967,2.0250127321397344,1.9962104633854107,1.9661708085684517,1.9349423651288868,1.902581170152091,1.8691506194819663,1.834721263381775,1.7993704785399443,1.76318201918924,1.726245453126735,1.6886554913833312,1.6505112230858856,1.611915269574767,1.5729728739848585,1.5337909441817827,1.4944770680985064,1.45513852109374,1.4158812849308142,1.3768090973583869,1.338022550092857,1.2996182513114372,1.2616880666402135,1.224318450155571,1.187589874213834,1.1515763640922652,1.1163451405738416,1.0819563708420734,1.048463025463559,1.0159108369037544,0.9843383530071922,0.9537770772201227,0.9242516860654116,0.8957803135022957,0.8683748913067124,0.8420415344665887,0.8167809607646872,0.7925889341752512,0.7694567223805192,0.7473715595679621,0.7263171066480085,0.7062739020869707,0.6872197976371077,0.6691303743270864,0.6519793351195335,0.6357388716225414,0.620380003139871,0.6058728871472595,0.5921871009822195,0.5792918951292285,0.5671564189724598,0.5557499202784664,0.5450419199681541,0.5350023639492195,0.5256017539162657,0.5168112590957664,0.508602810926732,0.5009491826348217,0.49382405558672593,0.4872020742111883,0.4810588911505204,0.47537120416856316,0.47011678619355435,0.4652745097222833,0.4608243666594987,0.45674748451728514,0.4530261397559505,0.449643768913155,0.4465849780433498,0.4438355508764182,0.4413824560036095,0.4392138533109907,0.43731909980591527,0.4356887549203291,0.4343145853257659,0.4331895692579987,0.4323079003237213,0.4316649907462889,0.43125747400126985,0.431083206794002,0.4311412703390218,0.431431970913577,0.43195683967277154,0.4327186317305288,0.4337213245267634,0.43497011551520304,0.4364714192165126,0.4382328636861217,0.44026328644391877,0.4425727299023206,0.44517243630889825,0.44807484218861404,0.4512935722278919,0.4548434324874733,0.45874040276284245,0.4630016278297,0.46764540721758185,0.4726911830476462,0.47815952535158873,0.48407211415871954,0.49045171749898886,0.4973221643232102,0.5047083111905034,0.5126360014202448,0.5211320152554488,0.5302240094411421,0.5399404444902883,0.5503104977974729,0.561363960673862,0.5731311173238697,0.5856426037730906,0.5989292447976537,0.6130218670069435,0.6279510864043459,0.643747069003975,0.6604392634239649,0.6780561048164679,0.6966246900365388,0.7161704245993804,0.7367166427273991,0.7582842026400354,0.7808910601803364,0.8045518248868349,0.8292773036852312,0.8550740384630743,0.8819438448668473,0.9098833606835709,0.9388836130921276,0.9689296148432206,0.9999999999999998]}},\"id\":\"1a5f2cf0-7dcd-40d2-989c-6ad559561b9e\",\"type\":\"ColumnDataSource\"},{\"attributes\":{\"data_source\":{\"id\":\"6b60b8fa-3216-4805-b883-4e931551df93\",\"type\":\"ColumnDataSource\"},\"glyph\":{\"id\":\"c43a0276-d1d0-457b-904a-b23ff2f7b146\",\"type\":\"X\"},\"hover_glyph\":null,\"nonselection_glyph\":null,\"selection_glyph\":null},\"id\":\"642d1b65-ec21-48e5-ae94-afeefc34b9cd\",\"type\":\"GlyphRenderer\"},{\"attributes\":{\"plot\":{\"id\":\"82d6c85b-e628-4f3b-bfd6-5f5e962f204d\",\"type\":\"Plot\"}},\"id\":\"332cb196-05bb-46e0-9adf-1cad513044c1\",\"type\":\"PanTool\"},{\"attributes\":{\"data_source\":{\"id\":\"1a5f2cf0-7dcd-40d2-989c-6ad559561b9e\",\"type\":\"ColumnDataSource\"},\"glyph\":{\"id\":\"8e7258f4-d75c-4569-b051-7ddab6ff2d1e\",\"type\":\"Line\"},\"hover_glyph\":null,\"nonselection_glyph\":null,\"selection_glyph\":null},\"id\":\"ceb4f17b-e3b4-4ada-87bd-de44092fb738\",\"type\":\"GlyphRenderer\"},{\"attributes\":{\"plot\":{\"id\":\"82d6c85b-e628-4f3b-bfd6-5f5e962f204d\",\"type\":\"Plot\"}},\"id\":\"24f59765-b49b-40bd-a704-7f37245b7092\",\"type\":\"PreviewSaveTool\"},{\"attributes\":{\"grid_line_color\":{\"value\":\"white\"},\"plot\":{\"id\":\"82d6c85b-e628-4f3b-bfd6-5f5e962f204d\",\"type\":\"Plot\"},\"ticker\":{\"id\":\"a9adb84c-ed30-482c-b984-5bc015498008\",\"type\":\"BasicTicker\"}},\"id\":\"bff83126-3496-438d-bad8-4d587e222a1f\",\"type\":\"Grid\"},{\"attributes\":{\"callback\":null,\"column_names\":[\"name\"],\"data\":{\"name\":\"ax_end\"}},\"id\":\"6b60b8fa-3216-4805-b883-4e931551df93\",\"type\":\"ColumnDataSource\"},{\"attributes\":{\"callback\":null},\"id\":\"c82b4e77-56ab-4897-b5c8-a16be481f503\",\"type\":\"DataRange1d\"},{\"attributes\":{\"plot\":{\"id\":\"82d6c85b-e628-4f3b-bfd6-5f5e962f204d\",\"type\":\"Plot\"}},\"id\":\"49321e17-1d1a-496b-a2dc-dd30b738effd\",\"type\":\"ResetTool\"},{\"attributes\":{\"axis_label\":\"exp(sin(x))\",\"axis_label_text_font\":\"sans-serif\",\"axis_label_text_font_size\":{\"value\":\"18.000000pt\"},\"formatter\":{\"id\":\"83154f23-dd93-4802-a54f-a92ae67816e2\",\"type\":\"BasicTickFormatter\"},\"major_label_text_font\":\"sans-serif\",\"major_label_text_font_size\":{\"value\":\"10.000000pt\"},\"plot\":{\"id\":\"82d6c85b-e628-4f3b-bfd6-5f5e962f204d\",\"type\":\"Plot\"},\"ticker\":{\"id\":\"fd823686-e8e6-4db9-8ac8-0efacd67a167\",\"type\":\"BasicTicker\"}},\"id\":\"17bfb005-9499-47ad-9d13-d2bd3eb17de3\",\"type\":\"LinearAxis\"},{\"attributes\":{\"plot\":{\"id\":\"82d6c85b-e628-4f3b-bfd6-5f5e962f204d\",\"type\":\"Plot\"}},\"id\":\"c71b3a94-d5b6-40e4-873f-84b6f35eb4b1\",\"type\":\"WheelZoomTool\"},{\"attributes\":{\"axis_label\":\"x\",\"axis_label_text_font\":\"sans-serif\",\"axis_label_text_font_size\":{\"value\":\"18.000000pt\"},\"formatter\":{\"id\":\"9aad5012-84c0-4400-b1ca-3e6f2113ae28\",\"type\":\"BasicTickFormatter\"},\"major_label_text_font\":\"sans-serif\",\"major_label_text_font_size\":{\"value\":\"10.000000pt\"},\"plot\":{\"id\":\"82d6c85b-e628-4f3b-bfd6-5f5e962f204d\",\"type\":\"Plot\"},\"ticker\":{\"id\":\"a9adb84c-ed30-482c-b984-5bc015498008\",\"type\":\"BasicTicker\"}},\"id\":\"0e126bec-38d8-4e0b-a9c5-dfe2bcafc344\",\"type\":\"LinearAxis\"},{\"attributes\":{\"background_fill_color\":{\"value\":\"#DFDFE5\"},\"below\":[{\"id\":\"0e126bec-38d8-4e0b-a9c5-dfe2bcafc344\",\"type\":\"LinearAxis\"}],\"left\":[{\"id\":\"17bfb005-9499-47ad-9d13-d2bd3eb17de3\",\"type\":\"LinearAxis\"}],\"plot_height\":440,\"plot_width\":640,\"renderers\":[{\"id\":\"0e126bec-38d8-4e0b-a9c5-dfe2bcafc344\",\"type\":\"LinearAxis\"},{\"id\":\"bff83126-3496-438d-bad8-4d587e222a1f\",\"type\":\"Grid\"},{\"id\":\"17bfb005-9499-47ad-9d13-d2bd3eb17de3\",\"type\":\"LinearAxis\"},{\"id\":\"5104a1d0-ef5a-4e2b-afb1-fa3515f8acb5\",\"type\":\"Grid\"},{\"id\":\"642d1b65-ec21-48e5-ae94-afeefc34b9cd\",\"type\":\"GlyphRenderer\"},{\"id\":\"752d6d5e-7713-4a3b-9be5-c045e8eac1b3\",\"type\":\"BoxAnnotation\"},{\"id\":\"ceb4f17b-e3b4-4ada-87bd-de44092fb738\",\"type\":\"GlyphRenderer\"}],\"tool_events\":{\"id\":\"2645ef1e-9589-4384-956a-c5fd16388905\",\"type\":\"ToolEvents\"},\"tools\":[{\"id\":\"332cb196-05bb-46e0-9adf-1cad513044c1\",\"type\":\"PanTool\"},{\"id\":\"c71b3a94-d5b6-40e4-873f-84b6f35eb4b1\",\"type\":\"WheelZoomTool\"},{\"id\":\"e0a870b8-2305-49c2-b8dd-a2098c70329c\",\"type\":\"BoxZoomTool\"},{\"id\":\"24f59765-b49b-40bd-a704-7f37245b7092\",\"type\":\"PreviewSaveTool\"},{\"id\":\"31484c30-5824-4feb-ae50-4d415015f84f\",\"type\":\"ResizeTool\"},{\"id\":\"49321e17-1d1a-496b-a2dc-dd30b738effd\",\"type\":\"ResetTool\"},{\"id\":\"789c78ea-686f-4741-9be9-5e22354b18d3\",\"type\":\"HelpTool\"}],\"x_range\":{\"id\":\"37dffb69-8bdd-4396-a129-e17ebd5c2eef\",\"type\":\"DataRange1d\"},\"y_range\":{\"id\":\"c82b4e77-56ab-4897-b5c8-a16be481f503\",\"type\":\"DataRange1d\"}},\"id\":\"82d6c85b-e628-4f3b-bfd6-5f5e962f204d\",\"type\":\"Plot\"},{\"attributes\":{\"callback\":null},\"id\":\"37dffb69-8bdd-4396-a129-e17ebd5c2eef\",\"type\":\"DataRange1d\"},{\"attributes\":{\"overlay\":{\"id\":\"752d6d5e-7713-4a3b-9be5-c045e8eac1b3\",\"type\":\"BoxAnnotation\"},\"plot\":{\"id\":\"82d6c85b-e628-4f3b-bfd6-5f5e962f204d\",\"type\":\"Plot\"}},\"id\":\"e0a870b8-2305-49c2-b8dd-a2098c70329c\",\"type\":\"BoxZoomTool\"},{\"attributes\":{\"plot\":{\"id\":\"82d6c85b-e628-4f3b-bfd6-5f5e962f204d\",\"type\":\"Plot\"}},\"id\":\"31484c30-5824-4feb-ae50-4d415015f84f\",\"type\":\"ResizeTool\"},{\"attributes\":{\"plot\":{\"id\":\"82d6c85b-e628-4f3b-bfd6-5f5e962f204d\",\"type\":\"Plot\"}},\"id\":\"789c78ea-686f-4741-9be9-5e22354b18d3\",\"type\":\"HelpTool\"},{\"attributes\":{},\"id\":\"c43a0276-d1d0-457b-904a-b23ff2f7b146\",\"type\":\"X\"},{\"attributes\":{\"line_color\":{\"value\":\"#4C72B0\"},\"line_width\":{\"value\":2.0},\"x\":{\"field\":\"Series 0\"},\"y\":{\"field\":\"Series 1\"}},\"id\":\"8e7258f4-d75c-4569-b051-7ddab6ff2d1e\",\"type\":\"Line\"},{\"attributes\":{},\"id\":\"a9adb84c-ed30-482c-b984-5bc015498008\",\"type\":\"BasicTicker\"},{\"attributes\":{\"dimension\":1,\"grid_line_color\":{\"value\":\"white\"},\"plot\":{\"id\":\"82d6c85b-e628-4f3b-bfd6-5f5e962f204d\",\"type\":\"Plot\"},\"ticker\":{\"id\":\"fd823686-e8e6-4db9-8ac8-0efacd67a167\",\"type\":\"BasicTicker\"}},\"id\":\"5104a1d0-ef5a-4e2b-afb1-fa3515f8acb5\",\"type\":\"Grid\"},{\"attributes\":{},\"id\":\"fd823686-e8e6-4db9-8ac8-0efacd67a167\",\"type\":\"BasicTicker\"},{\"attributes\":{},\"id\":\"9aad5012-84c0-4400-b1ca-3e6f2113ae28\",\"type\":\"BasicTickFormatter\"}],\"root_ids\":[\"82d6c85b-e628-4f3b-bfd6-5f5e962f204d\"]},\"title\":\"Bokeh Application\",\"version\":\"0.11.1\"}};\n",
       "            var render_items = [{\"docid\":\"59300c6d-4cf8-4e59-8ead-caa0ccbb692c\",\"elementid\":\"08f43186-be5d-4e93-aa96-20261e4bb68d\",\"modelid\":\"82d6c85b-e628-4f3b-bfd6-5f5e962f204d\",\"notebook_comms_target\":\"a91e6af4-4b3c-4d80-96c9-8692bc5d5bd1\"}];\n",
       "            \n",
       "            Bokeh.embed.embed_items(docs_json, render_items);\n",
       "        });\n",
       "      },\n",
       "      function(Bokeh) {\n",
       "      }\n",
       "    ];\n",
       "  \n",
       "    function run_inline_js() {\n",
       "      for (var i = 0; i < inline_js.length; i++) {\n",
       "        inline_js[i](window.Bokeh);\n",
       "      }\n",
       "    }\n",
       "  \n",
       "    if (window._bokeh_is_loading === 0) {\n",
       "      console.log(\"Bokeh: BokehJS loaded, going straight to plotting\");\n",
       "      run_inline_js();\n",
       "    } else {\n",
       "      load_libs(js_urls, function() {\n",
       "        console.log(\"Bokeh: BokehJS plotting callback run at\", now());\n",
       "        run_inline_js();\n",
       "      });\n",
       "    }\n",
       "  }(this));\n",
       "</script>"
      ]
     },
     "metadata": {},
     "output_type": "display_data"
    },
    {
     "data": {
      "text/html": [
       "<p><code>&lt;Bokeh Notebook handle for <strong>In[2]</strong>&gt;</code></p>"
      ],
      "text/plain": [
       "<bokeh.io._CommsHandle at 0x11a1bead0>"
      ]
     },
     "execution_count": 2,
     "metadata": {},
     "output_type": "execute_result"
    }
   ],
   "source": [
    "# Imports from __future__ in case we're running Python 2\n",
    "from __future__ import division, print_function\n",
    "from __future__ import absolute_import, unicode_literals\n",
    "\n",
    "# Our numerical workhorses\n",
    "import numpy as np\n",
    "import scipy.integrate\n",
    "\n",
    "# Import pyplot for plotting\n",
    "import matplotlib.pyplot as plt\n",
    "\n",
    "# Seaborn, useful for graphics\n",
    "import seaborn as sns\n",
    "\n",
    "# Import Bokeh modules for interactive plotting\n",
    "import bokeh.io\n",
    "import bokeh.mpl\n",
    "import bokeh.plotting\n",
    "\n",
    "# Magic function to make matplotlib inline; other style specs must come AFTER\n",
    "%matplotlib inline\n",
    "\n",
    "# This enables SVG graphics inline.  There is a bug, so uncomment if it works.\n",
    "# %config InlineBackend.figure_formats = {'svg',}\n",
    "\n",
    "# This enables high resolution PNGs. SVG is preferred, but has problems\n",
    "# rendering vertical and horizontal lines\n",
    "%config InlineBackend.figure_formats = {'png', 'retina'}\n",
    "\n",
    "# JB's favorite Seaborn settings for notebooks\n",
    "rc = {'lines.linewidth': 2, \n",
    "      'axes.labelsize': 18, \n",
    "      'axes.titlesize': 18, \n",
    "      'axes.facecolor': 'DFDFE5'}\n",
    "sns.set_context('notebook', rc=rc)\n",
    "sns.set_style('darkgrid', rc=rc)\n",
    "\n",
    "# Set up Bokeh for inline viewing\n",
    "bokeh.io.output_notebook()\n",
    "\n",
    "# Generate data to plot\n",
    "x = np.linspace(0, 2 * np.pi, 200)\n",
    "y = np.exp(np.sin(np.sin(x)))\n",
    "\n",
    "# Make plot\n",
    "plt.plot(x, y)\n",
    "plt.xlim((0, 2 * np.pi))\n",
    "plt.xlabel('x')\n",
    "plt.ylabel('exp(sin(x))')\n",
    "\n",
    "# Make it interactive with Bokeh\n",
    "bokeh.plotting.show(bokeh.mpl.to_bokeh())\n"
   ]
  },
  {
   "cell_type": "code",
   "execution_count": 3,
   "metadata": {
    "collapsed": false
   },
   "outputs": [
    {
     "data": {
      "image/png": "[encoded data removed]",
      "text/plain": [
       "<matplotlib.figure.Figure at 0x11a211990>"
      ]
     },
     "metadata": {
      "image/png": {
       "height": 378,
       "width": 513
      }
     },
     "output_type": "display_data"
    }
   ],
   "source": [
    "import numpy as np\n",
    "import matplotlib.mlab as mlab\n",
    "import matplotlib.pyplot as plt\n",
    "\n",
    "\n",
    "# example data\n",
    "mu = 100  # mean of distribution\n",
    "sigma = 15  # standard deviation of distribution\n",
    "x = mu + sigma * np.random.randn(10000)\n",
    "\n",
    "num_bins = 50\n",
    "# the histogram of the data\n",
    "n, bins, patches = plt.hist(x, num_bins, normed=1, facecolor='green', alpha=0.5)\n",
    "# add a 'best fit' line\n",
    "y = mlab.normpdf(bins, mu, sigma)\n",
    "plt.plot(bins, y, 'r--')\n",
    "plt.xlabel('Smarts')\n",
    "plt.ylabel('Probability')\n",
    "plt.title(r'Histogram of IQ: $\\mu=100$, $\\sigma=15$')\n",
    "\n",
    "# Tweak spacing to prevent clipping of ylabel\n",
    "plt.subplots_adjust(left=0.15)\n",
    "plt.show()\n"
   ]
  },
  {
   "cell_type": "code",
   "execution_count": null,
   "metadata": {
    "collapsed": true
   },
   "outputs": [],
   "source": []
  }
 ],
 "metadata": {
  "kernelspec": {
   "display_name": "Python 2",
   "language": "python",
   "name": "python2"
  },
  "language_info": {
   "codemirror_mode": {
    "name": "ipython",
    "version": 2
   },
   "file_extension": ".py",
   "mimetype": "text/x-python",
   "name": "python",
   "nbconvert_exporter": "python",
   "pygments_lexer": "ipython2",
   "version": "2.7.13"
  }
 },
 "nbformat": 4,
 "nbformat_minor": 0
}
