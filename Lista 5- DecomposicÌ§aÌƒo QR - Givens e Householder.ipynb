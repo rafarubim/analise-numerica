{
 "cells": [
  {
   "cell_type": "markdown",
   "metadata": {},
   "source": [
    "## INF1608 - Análise Numérica - 2017.1\n",
    "## Departamento de Informática - PUC-Rio \n",
    "## Prof. Hélio Lopes - lopes@inf.puc-rio.br\n",
    "## http://www.inf.puc-rio.br/~lopes\n",
    "\n",
    "\n",
    "## Lista 5\n",
    "\n",
    "1) Implemente o método de Reflexão de Householder para a obtenção da decomposição QR de uma matriz quadrada nxn.\n",
    "       \n",
    "2) Implemente o método de Rotação de Givens para a obtenção da decomposição QR de uma matriz quadrada nxn.\n",
    "     \n",
    "3) Teste muito bem todos esses algoritmos!"
   ]
  },
  {
   "cell_type": "code",
   "execution_count": 13,
   "metadata": {
    "collapsed": false
   },
   "outputs": [
    {
     "name": "stdout",
     "output_type": "stream",
     "text": [
      "A:\n",
      "[[ 12 -51   4]\n",
      " [  6 167 -68]\n",
      " [ -4  24 -41]]\n",
      "Q:\n",
      "[[ 0.85714286 -0.39428571  0.33142857]\n",
      " [ 0.42857143  0.90285714 -0.03428571]\n",
      " [-0.28571429  0.17142857  0.94285714]]\n",
      "R:\n",
      "[[  1.40000000e+01   2.10000000e+01  -1.40000000e+01]\n",
      " [  5.50670620e-16   1.75000000e+02  -7.00000000e+01]\n",
      " [ -3.01980663e-16  -9.23705556e-16  -3.50000000e+01]]\n",
      "QR:\n",
      "[[  12.  -51.    4.]\n",
      " [   6.  167.  -68.]\n",
      " [  -4.   24.  -41.]]\n"
     ]
    }
   ],
   "source": [
    "#1)\n",
    "import numpy as np\n",
    "\n",
    "# Transforma um array em uma matrix coluna\n",
    "def columnVector(v):\n",
    "    return np.matrix(v).transpose()\n",
    "\n",
    "# Monta a matriz Qk a partir de Qk' e o tamanho desejado\n",
    "def mountQk(Ql, n):\n",
    "    Q = np.zeros(shape=(n,n))\n",
    "    k = n - len(Ql)\n",
    "    for i in range(n):\n",
    "        for j in range(n):\n",
    "            if (i < k or j < k):\n",
    "                if (i == j):\n",
    "                    Q[i][j] = 1\n",
    "                else:\n",
    "                    Q[i][j] = 0\n",
    "            else:\n",
    "                Q[i][j] = Ql[i-k][j-k]\n",
    "    return Q\n",
    "\n",
    "def householderDecomp(A):\n",
    "    m = len(A)\n",
    "    n = len(A[0])\n",
    "    e1 = np.zeros(m)\n",
    "    e1[0] = 1.\n",
    "    Q = np.identity(m)\n",
    "    R = A.copy()\n",
    "    k = 0\n",
    "    Al = A.copy() # Al significa A'\n",
    "    QlSize = m # valor do lado da matriz quadrada Q'\n",
    "    while(k < m - 1 and k < n): # k até min(m-1, n)\n",
    "        x = Al[:,0]\n",
    "        alpha = np.linalg.norm(x)\n",
    "        u = x - alpha * e1\n",
    "        v = u/np.linalg.norm(u)\n",
    "        v = columnVector(v) # correção para cálculos\n",
    "        Ql = np.identity(QlSize) - 2 * v.dot(v.transpose()) # Ql significa Q'\n",
    "        Ql = np.array(Ql) # correção para cálculos\n",
    "        \n",
    "        # Atualizar Q e R através de Qk (R = Qj*..*Q1*Q0*A; Q = Q0t*Q1t*..*Qjt)\n",
    "        Qk = mountQk(Ql, m)\n",
    "        Q = Q.dot(Qk.transpose())\n",
    "        R = Qk.dot(R)\n",
    "        \n",
    "        # Preparação da próxima iteração:\n",
    "        k += 1\n",
    "        \n",
    "        # Calcular nova A':\n",
    "        QlSize = m - k\n",
    "        Al = Ql.dot(Al)\n",
    "        Al = Al[1:QlSize+1,1:QlSize+1]\n",
    "        \n",
    "        # Atualizar e1 para a dimensão correta:\n",
    "        e1 = np.zeros(QlSize)\n",
    "        e1[0] = 1.\n",
    "    return Q, R\n",
    "\n",
    "A = np.array([[12,-51,4],[6,167,-68],[-4,24,-41]])\n",
    "print(\"A:\\n\" + str(A))\n",
    "Q, R = householderDecomp(A)\n",
    "print (\"Q:\\n\" + str(Q) + \"\\nR:\\n\" + str(R) + \"\\nQR:\\n\" + str(Q.dot(R)))"
   ]
  },
  {
   "cell_type": "code",
   "execution_count": 14,
   "metadata": {
    "collapsed": false
   },
   "outputs": [
    {
     "name": "stdout",
     "output_type": "stream",
     "text": [
      "A:\n",
      "[[ 12 -51   4]\n",
      " [  6 167 -68]\n",
      " [ -4  24 -41]]\n",
      "Q:\n",
      "[[ 0.85714286 -0.39428571  0.33142857]\n",
      " [ 0.42857143  0.90285714 -0.03428571]\n",
      " [-0.28571429  0.17142857  0.94285714]]\n",
      "R:\n",
      "[[  1.40000000e+01   2.10000000e+01  -1.40000000e+01]\n",
      " [ -2.62155607e-15   1.75000000e+02  -7.00000000e+01]\n",
      " [  5.44171486e-15   6.40255177e-15  -3.50000000e+01]]\n",
      "QR:\n",
      "[[  12.  -51.    4.]\n",
      " [   6.  167.  -68.]\n",
      " [  -4.   24.  -41.]]\n"
     ]
    }
   ],
   "source": [
    "#2)\n",
    "import numpy as np\n",
    "\n",
    "# Recebe um vetor (x, y) e retorna seu ângulo anti-horário com o sentido positivo do eixo x\n",
    "def getAngle2D(x, y):\n",
    "    norm = np.sqrt(x*x + y*y)\n",
    "    xn = x/norm\n",
    "    ang = np.arccos(xn)\n",
    "    if (y >= 0):\n",
    "        return ang\n",
    "    else:\n",
    "        return 2 * np.pi - ang\n",
    "\n",
    "# Monta a matriz Qk \"n x n\" a partir do ângulo de rotação desejado e a posição i, j de A que se deseja zerar\n",
    "def mountQk(n, theta, i, j):\n",
    "    Qk = np.zeros(shape=(n,n))\n",
    "    for p in range(n):\n",
    "        if (p != i and p != j):\n",
    "            Qk[p][p] = 1\n",
    "    Qk[j][j] = np.cos(theta)\n",
    "    Qk[j][i] = -np.sin(theta)\n",
    "    Qk[i][j] = np.sin(theta)\n",
    "    Qk[i][i] = np.cos(theta)\n",
    "    return Qk\n",
    "\n",
    "def givensDecomp(A):\n",
    "    m = len(A)\n",
    "    n = len(A[0])\n",
    "    Q = np.identity(m)\n",
    "    R = A.copy()\n",
    "    j = 0\n",
    "    while(j < m - 1 and j < n): # j até min(m-1, n)\n",
    "        for i in range(j + 1, m):\n",
    "            theta = 2 * np.pi - getAngle2D(R[j][j], R[i][j]) # Angulo de rotação desejado para zerar Qk*..*Q1*Q0*A[i][j]\n",
    "            Qk = mountQk(m, theta, i, j)\n",
    "            \n",
    "            # Atualizar Q e R através de Qk (R = Qj*..*Q1*Q0*A; Q = Q0t*Q1t*..*Qjt)\n",
    "            Q = Q.dot(Qk.transpose())\n",
    "            R = Qk.dot(R)\n",
    "        # Preparar próxima iteração\n",
    "        j += 1\n",
    "            \n",
    "    return Q, R\n",
    "\n",
    "A = np.array([[12,-51,4],[6,167,-68],[-4,24,-41]])\n",
    "print(\"A:\\n\" + str(A))\n",
    "Q, R = givensDecomp(A)\n",
    "print (\"Q:\\n\" + str(Q) + \"\\nR:\\n\" + str(R) + \"\\nQR:\\n\" + str(Q.dot(R)))"
   ]
  },
  {
   "cell_type": "code",
   "execution_count": null,
   "metadata": {
    "collapsed": true
   },
   "outputs": [],
   "source": [
    "#3)\n",
    "Testes executados nas qeustões específicas, resultado comparado com o exemplo apresentado pelo wikipedia no link\n",
    "https://en.wikipedia.org/wiki/QR_decomposition\n",
    "Os testes tiveram sucesso no resultado obtido, tal como esperado."
   ]
  }
 ],
 "metadata": {
  "kernelspec": {
   "display_name": "Python 2",
   "language": "python",
   "name": "python2"
  },
  "language_info": {
   "codemirror_mode": {
    "name": "ipython",
    "version": 2
   },
   "file_extension": ".py",
   "mimetype": "text/x-python",
   "name": "python",
   "nbconvert_exporter": "python",
   "pygments_lexer": "ipython2",
   "version": "2.7.13"
  }
 },
 "nbformat": 4,
 "nbformat_minor": 0
}
