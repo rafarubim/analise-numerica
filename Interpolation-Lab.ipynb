{
 "cells": [
  {
   "cell_type": "code",
   "execution_count": 14,
   "metadata": {
    "collapsed": false
   },
   "outputs": [
    {
     "name": "stdout",
     "output_type": "stream",
     "text": [
      "[[  1.00000000e+00   1.50000000e+00   2.25000000e+00   3.37500000e+00\n",
      "    5.06250000e+00   7.59375000e+00   1.13906250e+01   1.70859375e+01\n",
      "    2.56289062e+01   3.84433594e+01]\n",
      " [  1.00000000e+00   2.30000000e+00   5.29000000e+00   1.21670000e+01\n",
      "    2.79841000e+01   6.43634300e+01   1.48035889e+02   3.40482545e+02\n",
      "    7.83109853e+02   1.80115266e+03]\n",
      " [  1.00000000e+00   3.10000000e+00   9.61000000e+00   2.97910000e+01\n",
      "    9.23521000e+01   2.86291510e+02   8.87503681e+02   2.75126141e+03\n",
      "    8.52891037e+03   2.64396222e+04]\n",
      " [  1.00000000e+00   4.00000000e+00   1.60000000e+01   6.40000000e+01\n",
      "    2.56000000e+02   1.02400000e+03   4.09600000e+03   1.63840000e+04\n",
      "    6.55360000e+04   2.62144000e+05]\n",
      " [  1.00000000e+00   5.30000000e+00   2.80900000e+01   1.48877000e+02\n",
      "    7.89048100e+02   4.18195493e+03   2.21643611e+04   1.17471114e+05\n",
      "    6.22596904e+05   3.29976359e+06]\n",
      " [  1.00000000e+00   6.00000000e+00   3.60000000e+01   2.16000000e+02\n",
      "    1.29600000e+03   7.77600000e+03   4.66560000e+04   2.79936000e+05\n",
      "    1.67961600e+06   1.00776960e+07]\n",
      " [  1.00000000e+00   7.00000000e+00   4.90000000e+01   3.43000000e+02\n",
      "    2.40100000e+03   1.68070000e+04   1.17649000e+05   8.23543000e+05\n",
      "    5.76480100e+06   4.03536070e+07]\n",
      " [  1.00000000e+00   8.00000000e+00   6.40000000e+01   5.12000000e+02\n",
      "    4.09600000e+03   3.27680000e+04   2.62144000e+05   2.09715200e+06\n",
      "    1.67772160e+07   1.34217728e+08]\n",
      " [  1.00000000e+00   9.00000000e+00   8.10000000e+01   7.29000000e+02\n",
      "    6.56100000e+03   5.90490000e+04   5.31441000e+05   4.78296900e+06\n",
      "    4.30467210e+07   3.87420489e+08]\n",
      " [  1.00000000e+00   1.00000000e+01   1.00000000e+02   1.00000000e+03\n",
      "    1.00000000e+04   1.00000000e+05   1.00000000e+06   1.00000000e+07\n",
      "    1.00000000e+08   1.00000000e+09]]\n",
      "[ -2.62237309e+03   5.66431970e+03  -5.04512222e+03   2.45394337e+03\n",
      "  -7.23827665e+02   1.35310587e+02  -1.61477861e+01   1.19398187e+00\n",
      "  -4.99124740e-02   9.02984800e-04]\n",
      "5.4316657759e-18\n"
     ]
    },
    {
     "data": {
      "image/png": "[encoded data removed]",
      "text/plain": [
       "<matplotlib.figure.Figure at 0x920a780>"
      ]
     },
     "metadata": {},
     "output_type": "display_data"
    }
   ],
   "source": [
    "import numpy as np\n",
    "import matplotlib.pyplot as plt\n",
    "\n",
    "%matplotlib inline\n",
    "\n",
    "def evalp(x,c):\n",
    "    d = len(c)-1\n",
    "    p = c[0]\n",
    "    xp = 1.0\n",
    "    for i in range(d):\n",
    "        xp *= x\n",
    "        p += c[i+1]*xp\n",
    "    return p\n",
    "\n",
    "def buildVmatrix(x):\n",
    "    d = len(x)-1\n",
    "    A = np.zeros((len(x),d+1))\n",
    "    for i in range(len(x)):\n",
    "        for j in range(d+1):\n",
    "            A[i,j] = x[i]**j\n",
    "    return A\n",
    "\n",
    "def PolynomialInterpolation(x,y):\n",
    "    A = buildVmatrix(x)\n",
    "    c = np.linalg.solve(A,y)\n",
    "    return c\n",
    "\n",
    "def drawPolynomial(x,y,c,N,xmin,xmax):\n",
    "    delta = 2.0*(xmax-xmin)/(N-1.0)\n",
    "    px = np.zeros(N)\n",
    "    py = np.zeros(N)\n",
    "    for i in range(N):\n",
    "        xp = xmin + i*delta - N*delta/4.0\n",
    "        px[i] = xp\n",
    "        py[i] = evalp(xp,c)\n",
    "    plt.scatter(x,y)\n",
    "    plt.plot(px,py)\n",
    "    deltax = xmax - xmin\n",
    "    plt.xlim(xmin-1.2*deltax, xmax+1.2*deltax)\n",
    "    ymin = min(y)\n",
    "    ymax = max(y)\n",
    "    deltay = (ymax-ymin)\n",
    "    plt.ylim(ymin-0.5*deltay,ymax+0.5*deltay)\n",
    "    plt.show()\n",
    "\n",
    "\n",
    "x = [1.5,2.3,3.1,4.0,5.3,6.0,7.0,8.0,9.0,10.0]\n",
    "y = [3.0,6.0,2.0,10.0,2.0,-1.0,2.0,3.0,-3.0,4.0] \n",
    "d = len(x)-1\n",
    "\n",
    "A = buildVmatrix(x)\n",
    "print(A)\n",
    "\n",
    "c = PolynomialInterpolation(x,y)\n",
    "print(c)\n",
    "\n",
    "erro = np.linalg.norm(A.dot(c)-y)**2\n",
    "print(erro)\n",
    "\n",
    "\n",
    "drawPolynomial(x,y,c,100,min(x),max(x))\n",
    "\n"
   ]
  },
  {
   "cell_type": "code",
   "execution_count": 7,
   "metadata": {
    "collapsed": false
   },
   "outputs": [
    {
     "name": "stdout",
     "output_type": "stream",
     "text": [
      "[[   0.            0.65895643    3.27919064    9.40048373   25.38346833\n",
      "    37.90399408   60.95081637   90.41779541  126.63516367  169.88686233]\n",
      " [   0.65895643    0.            0.65895643    3.78108185   14.48494121\n",
      "    23.82698193   42.01755526   66.31924848   97.11157062  134.71434375]\n",
      " [   3.27919064    0.65895643    0.            0.8624157     6.9458091\n",
      "    13.36546808   26.99702526   46.37582909   71.94749266  104.07790129]\n",
      " [   9.40048373    3.78108185    0.8624157     0.            2.01772897\n",
      "     5.54517744   14.48494121   28.66815151   48.64775373   74.8598955 ]\n",
      " [  25.38346833   14.48494121    6.9458091     2.01772897    0.\n",
      "     0.48669337    3.78108185   11.28173069   23.82698193   42.01755526]\n",
      " [  37.90399408   23.82698193   13.36546808    5.54517744    0.48669337\n",
      "     0.            1.09861229    5.54517744   14.48494121   28.66815151]\n",
      " [  60.95081637   42.01755526   26.99702526   14.48494121    3.78108185\n",
      "     1.09861229    0.            1.09861229    5.54517744   14.48494121]\n",
      " [  90.41779541   66.31924848   46.37582909   28.66815151   11.28173069\n",
      "     5.54517744    1.09861229    0.            1.09861229    5.54517744]\n",
      " [ 126.63516367   97.11157062   71.94749266   48.64775373   23.82698193\n",
      "    14.48494121    5.54517744    1.09861229    0.            1.09861229]\n",
      " [ 169.88686233  134.71434375  104.07790129   74.8598955    42.01755526\n",
      "    28.66815151   14.48494121    5.54517744    1.09861229    0.        ]]\n",
      "[ -6.77086963  22.48242316 -30.95098985  22.01964518  -5.8489098\n",
      "  -3.67941448   0.26779085  11.00164237 -13.78415966   5.32770484]\n"
     ]
    },
    {
     "data": {
      "image/png": "[encoded data removed]",
      "text/plain": [
       "<matplotlib.figure.Figure at 0x10ef37f90>"
      ]
     },
     "metadata": {},
     "output_type": "display_data"
    }
   ],
   "source": [
    "import numpy as np\n",
    "import matplotlib.pyplot as plt\n",
    "import math\n",
    "\n",
    "%matplotlib inline\n",
    "\n",
    "def RBF(r,eps):\n",
    "#    return math.exp(-r*eps)\n",
    "#    return 1.0/(1.0+(eps*eps*r*r))\n",
    "#    return 1.0/math.sqrt((1.0+(eps*eps*r*r)))\n",
    "#    return math.sqrt((1.0+(eps*eps*r*r)))\n",
    "    return r**2*math.log(r+eps)\n",
    "\n",
    "def evalRBF(x0,x,w,eps):\n",
    "    n = len(x)\n",
    "    p = 0.0\n",
    "    for i in range(n):\n",
    "        r = np.linalg.norm(x0-x[i])\n",
    "        p += w[i]*RBF(r,eps)\n",
    "    return p\n",
    "\n",
    "def buildRBFmatrix(x,eps):\n",
    "    n = len(x)\n",
    "    A = np.zeros((n,n))\n",
    "    for i in range(n):\n",
    "        for j in range(i+1):\n",
    "            r = np.linalg.norm(x[i]-x[j])\n",
    "            A[i,j] = RBF(r,eps)\n",
    "            A[j,i] = A[i,j]\n",
    "    return A\n",
    "\n",
    "def RBFInterpolation(x,y,eps):\n",
    "    A = buildRBFmatrix(x,eps)\n",
    "    w = np.linalg.solve(A,y)\n",
    "    return w\n",
    "\n",
    "def drawRBF(x,y,w,N,xmin,xmax,eps):\n",
    "    delta = 2.0*(xmax-xmin)/(N-1.0)\n",
    "    px = np.zeros(N)\n",
    "    py = np.zeros(N)\n",
    "    for i in range(N):\n",
    "        xp = xmin + i*delta - N*delta/4.0\n",
    "        px[i] = xp\n",
    "        py[i] = evalRBF(xp,x,w,eps)\n",
    "    plt.scatter(x,y)\n",
    "    plt.plot(px,py)\n",
    "    deltax = xmax - xmin\n",
    "    plt.xlim(xmin-1.2*deltax, xmax+1.2*deltax)\n",
    "    ymin = min(y)\n",
    "    ymax = max(y)\n",
    "    deltay = (ymax-ymin)\n",
    "    plt.ylim(ymin-0.5*deltay,ymax+0.5*deltay)\n",
    "    plt.show()\n",
    "\n",
    "x = [1.5,2.3,3.1,4.0,5.3,6.0,7.0,8.0,9.0,10.0]\n",
    "y = [3.0,6.0,2.0,10.0,2.0,-1.0,2.0,3.0,-3.0,4.0] \n",
    "\n",
    "eps = 2.0\n",
    "\n",
    "A = buildRBFmatrix(x,eps)\n",
    "print(A)\n",
    "\n",
    "w = RBFInterpolation(x,y,eps)\n",
    "print(w)\n",
    "\n",
    "drawRBF(x,y,w,100,min(x),max(x),eps)\n"
   ]
  },
  {
   "cell_type": "code",
   "execution_count": 6,
   "metadata": {
    "collapsed": false
   },
   "outputs": [
    {
     "data": {
      "image/png": "[encoded data removed]",
      "text/plain": [
       "<matplotlib.figure.Figure at 0x8a79fd0>"
      ]
     },
     "metadata": {},
     "output_type": "display_data"
    }
   ],
   "source": [
    "import numpy as np\n",
    "import matplotlib.pyplot as plt\n",
    "import math\n",
    "\n",
    "%matplotlib inline\n",
    "\n",
    "def evalSheppard(x,xp,yp,k):\n",
    "    n  = len(xp)\n",
    "    s  = np.zeros(n)\n",
    "    wt = 0.0\n",
    "    for i in range(n):\n",
    "        if (x == xp[i]):\n",
    "            return yp[i]\n",
    "        s[i] = 1.0/((np.linalg.norm(x-xp[i])))**k\n",
    "        wt += s[i]\n",
    "    p = 0.0\n",
    "    for i in range(n):\n",
    "        p += yp[i]*(s[i]/wt)\n",
    "    return p\n",
    "\n",
    "def drawSheppard(x,y,k,N,xmin,xmax):\n",
    "    delta = 2.0*(xmax-xmin)/(N-1.0)\n",
    "    px = np.zeros(N)\n",
    "    py = np.zeros(N)\n",
    "    for i in range(N):\n",
    "        xp = xmin + i*delta - N*delta/4.0\n",
    "        px[i] = xp\n",
    "        py[i] = evalSheppard(xp,x,y,k)\n",
    "    plt.scatter(x,y)\n",
    "    plt.plot(px,py)\n",
    "    deltax = xmax - xmin\n",
    "    plt.xlim(xmin-1.2*deltax, xmax+1.2*deltax)\n",
    "    ymin = min([min(y),min(py)])\n",
    "    ymax = max([max(y),max(py)])\n",
    "    deltay = (ymax-ymin)\n",
    "    plt.ylim(ymin-0.5*deltay,ymax+0.5*deltay)\n",
    "    plt.show()\n",
    "\n",
    "x = [1.5,2.3,3.1,4.0,5.3,6.0,7.0,8.0,9.0,10.0]\n",
    "y = [3.0,6.0,2.0,10.0,2.0,-1.0,2.0,3.0,-3.0,4.0] \n",
    "\n",
    "\n",
    "drawSheppard(x,y,2,500,min(x),max(x))\n"
   ]
  },
  {
   "cell_type": "code",
   "execution_count": null,
   "metadata": {
    "collapsed": true
   },
   "outputs": [],
   "source": []
  }
 ],
 "metadata": {
  "kernelspec": {
   "display_name": "Python 2",
   "language": "python",
   "name": "python2"
  },
  "language_info": {
   "codemirror_mode": {
    "name": "ipython",
    "version": 2
   },
   "file_extension": ".py",
   "mimetype": "text/x-python",
   "name": "python",
   "nbconvert_exporter": "python",
   "pygments_lexer": "ipython2",
   "version": "2.7.13"
  }
 },
 "nbformat": 4,
 "nbformat_minor": 0
}
