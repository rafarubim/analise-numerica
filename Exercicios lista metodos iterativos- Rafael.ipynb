{
 "cells": [
  {
   "cell_type": "markdown",
   "metadata": {},
   "source": [
    "## INF1608 - Análise Numérica - 2017.1\n",
    "## Departamento de Informática - PUC-Rio \n",
    "## Prof. Hélio Lopes - lopes@inf.puc-rio.br\n",
    "## http://www.inf.puc-rio.br/~lopes\n",
    "\n",
    "\n",
    "# Exercícios resolvidos\n",
    "\n",
    "R1) Faça uma função que verique se uma matriz A de tamanho nxn é estritamente diagonal dominante:\n",
    "        Definição: Uma matriz A (nxn) é estritamente diagonal dominante se para toda linha i vale:\n",
    "                   $$|A_{i,i}| > \\sum_{i=1, i\\ne j}^n |A_{i,j}|$$\n",
    "                   \n",
    "R2) Implemente o método de Jacobi para a solução de um sistema de equações lineares. Defina um critério de parada para o seu método, e explique-o. \n",
    "        https://pt.wikipedia.org/wiki/M%C3%A9todo_de_Jacobi\n",
    "\n",
    "R3) Implemente o método de Gauss-Seidel para a solução de um sistema de equações lineares. Defina um critério de parada para o seu método, e explique-o.\n",
    "        https://pt.wikipedia.org/wiki/M%C3%A9todo_de_Gauss-Seidel\n",
    "\n",
    "## Lista 4\n",
    "\n",
    "1) Implemente o método de Gradiente Conjugado para a solução de um sistema de equações lineares. Defina um critério de parada para o seu método, e explique-o.\n",
    "        https://en.wikipedia.org/wiki/Conjugate_gradient_method\n",
    "\n",
    "2) Teste muito bem todos esses algoritmos!"
   ]
  },
  {
   "cell_type": "markdown",
   "metadata": {
    "collapsed": true
   },
   "source": [
    "## Solução"
   ]
  },
  {
   "cell_type": "markdown",
   "metadata": {},
   "source": [
    "R1) Faça uma função que verique se uma matriz A de tamanho nxn é estritamente diagonal dominante: \n",
    "\n",
    "Definição: Uma matriz A (nxn) é estritamente diagonal dominante se para toda linha i vale:\n",
    "  $$|A_{i,i}| > \\sum_{i=1, i\\ne j}^n |A_{i,j}|$$\n",
    " \n"
   ]
  },
  {
   "cell_type": "code",
   "execution_count": 11,
   "metadata": {
    "collapsed": false
   },
   "outputs": [
    {
     "name": "stdout",
     "output_type": "stream",
     "text": [
      "[[-2.  1.  0.]\n",
      " [ 1. -2.  1.]\n",
      " [ 0.  1. -2.]]\n",
      "False\n"
     ]
    }
   ],
   "source": [
    "import numpy as np\n",
    "import math\n",
    "\n",
    "def isdiagonaldominat(A):\n",
    "    n = len(A)\n",
    "    for i in range(n):\n",
    "        soma = 0.0\n",
    "        for j in range(n):\n",
    "            if (i != j):\n",
    "                a = A[i,j]\n",
    "                soma += math.fabs(a)\n",
    "        if (math.fabs(A[i,i]) <= soma):\n",
    "            return False\n",
    "    return True\n",
    "\n",
    "A = np.matrix([[-2.0,1.0,0.0],[1.0,-2.0,1.0],[0.0,1.0,-2.0]])\n",
    "print(A)\n",
    "print(isdiagonaldominat(A))\n"
   ]
  },
  {
   "cell_type": "markdown",
   "metadata": {},
   "source": [
    "R2) Implemente o método de Jacobi para a solução de um sistema de equações lineares. Defina um critério de parada para o seu método, e explique-o. https://pt.wikipedia.org/wiki/M%C3%A9todo_de_Jacobi"
   ]
  },
  {
   "cell_type": "code",
   "execution_count": 16,
   "metadata": {
    "collapsed": false
   },
   "outputs": [
    {
     "name": "stdout",
     "output_type": "stream",
     "text": [
      "A:\n",
      "[[ 2.  1.]\n",
      " [ 5.  7.]]\n",
      "b:\n",
      "[ 11.  13.]\n",
      "x:\n",
      "[ 7.1111107  -3.22222137]\n",
      "||Ax-b||:\n",
      "3.92347242466e-06\n",
      "Numero de iteracoes:\n",
      "31\n"
     ]
    }
   ],
   "source": [
    "import numpy as np\n",
    "\n",
    "def jacobi(A,b,x0,N,TOL):\n",
    "\n",
    "    nlin = len(A); #num. de linhas\n",
    "    x = np.zeros(nlin); #cria x\n",
    "   \n",
    "    #iteracoes\n",
    "    k = 1;\n",
    "    while (k <= N):\n",
    "        #iteracao de Jacobi\n",
    "        for i in range(nlin):\n",
    "            x[i] = 0.0;\n",
    "            for j in range(i):\n",
    "                x[i] = x[i] - A[i,j]*x0[j]\n",
    "            for j in range(i+1,nlin):\n",
    "                x[i] = x[i] - A[i,j]*x0[j]\n",
    "            x[i] = (x[i] + b[i])/A[i,i]\n",
    "        #criterio de parada\n",
    "        if (np.linalg.norm(x-x0) < TOL):\n",
    "            return x,k\n",
    "        #prepara nova iteracao\n",
    "        k = k+1;\n",
    "        x0 = np.copy(x)\n",
    "    return x0,k\n",
    "\n",
    "\n",
    "A = np.matrix([[2.0,1.0],[5.0,7.0]])\n",
    "b = np.array([11.0,13.0])\n",
    "guess = np.array([1.0,1.0])\n",
    "\n",
    "sol,n = jacobi(A,b,guess,100,0.000001)\n",
    "\n",
    "print \"A:\"\n",
    "print(A)\n",
    "\n",
    "print \"b:\"\n",
    "print(b)\n",
    "\n",
    "print \"x:\"\n",
    "print(sol)\n",
    "\n",
    "print \"||Ax-b||:\"\n",
    "print(np.linalg.norm(A.dot(sol)-b))\n",
    "\n",
    "print \"Numero de iteracoes:\"\n",
    "print(n)\n"
   ]
  },
  {
   "cell_type": "markdown",
   "metadata": {},
   "source": [
    "R3) Implemente o método de Gauss-Seidel para a solução de um sistema de equações lineares. Defina um critério de parada para o seu método, e explique-o. https://pt.wikipedia.org/wiki/M%C3%A9todo_de_Gauss-Seidel"
   ]
  },
  {
   "cell_type": "code",
   "execution_count": 19,
   "metadata": {
    "collapsed": false,
    "scrolled": true
   },
   "outputs": [
    {
     "name": "stdout",
     "output_type": "stream",
     "text": [
      "A:\n",
      "[[ 2.  1.]\n",
      " [ 5.  7.]]\n",
      "b:\n",
      "[ 11.  13.]\n",
      "x:\n",
      "[ 7.1111107  -3.22222193]\n",
      "||Ax-b||:\n",
      "5.3245767262e-07\n",
      "Numero de iteracoes:\n",
      "16\n"
     ]
    }
   ],
   "source": [
    "import numpy as np\n",
    "\n",
    "def gaussseidel(A,b,x0,N,TOL):\n",
    "\n",
    "    nlin = len(A); #num. de linhas\n",
    "    x = np.zeros(nlin); #cria x\n",
    "   \n",
    "    #iteracoes\n",
    "    k = 1;\n",
    "    while (k <= N):\n",
    "        #iteracao de Jacobi\n",
    "        for i in range(nlin):\n",
    "            s = 0.0;\n",
    "            for j in range(i):\n",
    "                s = s + A[i,j]*x[j]\n",
    "            for j in range(i+1,nlin):\n",
    "                s = s + A[i,j]*x0[j]\n",
    "            x[i] = (b[i] - s)/A[i,i]\n",
    "        #criterio de parada\n",
    "        if (np.linalg.norm(x-x0) < TOL):\n",
    "            return x,k\n",
    "        #prepara nova iteracao\n",
    "        k = k+1;\n",
    "        x0 = np.copy(x)\n",
    "    return x0,k\n",
    "\n",
    "\n",
    "A = np.matrix([[2.0,1.0],[5.0,7.0]])\n",
    "b = np.array([11.0,13.0])\n",
    "guess = np.array([1.0,1.0])\n",
    "\n",
    "sol,n = gaussseidel(A,b,guess,100,0.000001)\n",
    "\n",
    "print \"A:\"\n",
    "print(A)\n",
    "\n",
    "print \"b:\"\n",
    "print(b)\n",
    "\n",
    "print \"x:\"\n",
    "print(sol)\n",
    "\n",
    "print \"||Ax-b||:\"\n",
    "print(np.linalg.norm(A.dot(sol)-b))\n",
    "\n",
    "print \"Numero de iteracoes:\"\n",
    "print(n)\n"
   ]
  },
  {
   "cell_type": "markdown",
   "metadata": {
    "collapsed": true
   },
   "source": [
    "1) Implemente o método de Gradiente Conjugado para a solução de um sistema de equações lineares. Defina um critério de parada para o seu método, e explique-o. https://en.wikipedia.org/wiki/Conjugate_gradient_method\n",
    "2) Teste muito bem todos esses algoritmos!"
   ]
  },
  {
   "cell_type": "code",
   "execution_count": 22,
   "metadata": {
    "collapsed": false
   },
   "outputs": [
    {
     "name": "stdout",
     "output_type": "stream",
     "text": [
      "Pt - Pinv: (Deve ser 0 para P ser ortogonal)\n",
      "[[ 0.  0.  0.  0.]\n",
      " [ 0.  0.  0.  0.]\n",
      " [ 0.  0.  0.  0.]\n",
      " [ 0.  0.  0.  0.]]\n",
      "A: (Matriz gerada em bloco de código acima simérica, positiva definida)\n",
      "[[ 7.75 -0.25  1.25  4.25]\n",
      " [-0.25  7.75  4.25  1.25]\n",
      " [ 1.25  4.25  7.75 -0.25]\n",
      " [ 4.25  1.25 -0.25  7.75]]\n",
      "b:\n",
      "[ 21.  13.  12.  11.]\n",
      "x:\n",
      "[ 3.08024476  1.86206294  0.01206294 -0.56975524]\n",
      "||Ax-b||:\n",
      "0.0\n",
      "Numero de iteracoes:\n",
      "3\n"
     ]
    }
   ],
   "source": [
    "import numpy as np\n",
    "\n",
    "def conjugateGradient(A,b,x0,N,TOL):\n",
    "    n = len(A)\n",
    "    x = np.zeros(n)\n",
    "    k = 0\n",
    "    r0 = np.copy(b - A.dot(x0))\n",
    "    p = np.copy(r0)\n",
    "    while(k < N):\n",
    "        alpha = r0.dot(r0)/p.dot(A.dot(p))\n",
    "        x = np.copy(x0 + alpha * p)\n",
    "        r = np.copy(r0 - alpha * A.dot(p))\n",
    "        if (np.linalg.norm(r) < TOL):\n",
    "            return x, k\n",
    "        p = np.copy(r + p * r.dot(r) / r0.dot(r0))\n",
    "        # nova iteração\n",
    "        k = k + 1\n",
    "        x0 = np.copy(x)\n",
    "        r0 = np.copy(r)\n",
    "    return x0, k\n",
    "\n",
    "# GERAR UMA MATRIZ SIMÉTRICA POSITIVA DEFINIDA DIAGONAL DOMINANTE PARA FINS DE TESTE\n",
    "\n",
    "D = np.array([[13.,0.,0.,0.],[0.,2.,0.,0.],[0.,0.,5.,0.],[0.,0.,0.,11.]]) # Matriz diagal de autovalores positivos\n",
    "P = np.array([[1.,1.,1.,1.],[1.,1.,-1.,-1.],[-1.,1.,-1.,1.],[1.,-1.,-1.,1.]]) # Matriz de colunas ortogonais\n",
    "P = P/np.sqrt(4.)# Normalizar colunas para gerar matriz ortogonal\n",
    "Pt = P.transpose()\n",
    "Pinv = np.linalg.inv(P)\n",
    "print (\"Pt - Pinv: (Deve ser 0 para P ser ortogonal)\\n\" + str(Pt-Pinv)) # Teste se P é ortogonal\n",
    "A = Pt.dot(D.dot(P))# A = P^(-1)DP\n",
    "\n",
    "#A = np.array([[1577.0,3460.0,753.0],[3460.0,37052.0,4278.0],[753.0,4278.0,594.0]])\n",
    "b = np.array([21.0,13.0,12.0,11.0])\n",
    "chute = np.array([1.0,1.0,1.0,1.0])\n",
    "\n",
    "#np.linalg.cholesky(A) # <- Só para garantir que a matriz é positiva definida\n",
    "\n",
    "sol,n = conjugateGradient(A,b,chute,100,0.000001)\n",
    "\n",
    "print \"A: (Matriz gerada em bloco de código acima simérica, positiva definida)\"\n",
    "print(A)\n",
    "\n",
    "print \"b:\"\n",
    "print(b)\n",
    "\n",
    "print \"x:\"\n",
    "print(sol)\n",
    "\n",
    "print \"||Ax-b||:\"\n",
    "print(np.linalg.norm(A.dot(sol)-b))\n",
    "\n",
    "print \"Numero de iteracoes:\"\n",
    "print(n)"
   ]
  },
  {
   "cell_type": "markdown",
   "metadata": {},
   "source": [
    "COMENTÁRIOS:\n",
    "O método do gradiente conjugado só funciona para matrizes simétricas positivas definidas. Os critérios de parada que utilizei foram: limite K de iterações (preferencialmente k deve ser maior que n, a dimensão do vetor b), tolerância TOL máxima da norma do resto Ax-b (erro máximo tolerado). Note que na teoria, o número de iterações máximo deve ser a dimensão n do vetor b e o resultado exato. Numericamente, pelas aproximações, porém, isso não necessariamente é verdade."
   ]
  }
 ],
 "metadata": {
  "kernelspec": {
   "display_name": "Python 2",
   "language": "python",
   "name": "python2"
  },
  "language_info": {
   "codemirror_mode": {
    "name": "ipython",
    "version": 2
   },
   "file_extension": ".py",
   "mimetype": "text/x-python",
   "name": "python",
   "nbconvert_exporter": "python",
   "pygments_lexer": "ipython2",
   "version": "2.7.13"
  }
 },
 "nbformat": 4,
 "nbformat_minor": 0
}
