{
 "cells": [
  {
   "cell_type": "code",
   "execution_count": 8,
   "metadata": {
    "collapsed": false
   },
   "outputs": [
    {
     "name": "stdout",
     "output_type": "stream",
     "text": [
      "[ 0.50227273 -0.50227273]\n",
      "[ 0.25113636 -0.25113636]\n",
      "[ 0.12556818 -0.12556818]\n",
      "[ 0.06278409 -0.06278409]\n",
      "[ 0.03139205 -0.03139205]\n",
      "[ 0.01569602 -0.01569602]\n",
      "[ 0.00784801 -0.00784801]\n",
      "[ 0.00392401 -0.00392401]\n",
      "[ 0.001962 -0.001962]\n",
      "[ 0.000981 -0.000981]\n",
      "[ 0.0004905 -0.0004905]\n",
      "[ 0.00024525 -0.00024525]\n",
      "[ 0.00012263 -0.00012263]\n",
      "[  6.13125888e-05  -6.13125888e-05]\n",
      "[  3.06562944e-05  -3.06562944e-05]\n",
      "[  1.53281472e-05  -1.53281472e-05]\n",
      "[  7.66407360e-06  -7.66407360e-06]\n",
      "[  3.83203680e-06  -3.83203680e-06]\n",
      "[  1.91601840e-06  -1.91601840e-06]\n",
      "[  9.58009200e-07  -9.58009200e-07]\n",
      "[  4.79004600e-07  -4.79004600e-07]\n",
      "(array([  4.79004600e-07,  -4.79004600e-07]), 21)\n"
     ]
    }
   ],
   "source": [
    "import numpy as np\n",
    "import math\n",
    "\n",
    "def F1(x):\n",
    "    f1 = math.exp(-(x[0]**2+x[1]**2))*math.cos(x[0]*x[1]) - 0.1\n",
    "    f2 = x[0]*x[1] - 0.1\n",
    "    Fx = np.array([f1,f2])\n",
    "    return Fx\n",
    "\n",
    "def DF1(x):\n",
    "    DFx = np.zeros((2,2))\n",
    "    DFx[0][0] = (-2.0*x[0]*math.exp(-(x[0]**2+x[1]**2)))*math.cos(x[0]*x[1]) - math.exp(-(x[0]**2+x[1]**2))*(math.sin(x[0]*x[1])*x[1])\n",
    "    DFx[0][1] = (-2.0*x[1]*math.exp(-(x[0]**2+x[1]**2)))*math.cos(x[0]*x[1]) - math.exp(-(x[0]**2+x[1]**2))*(math.sin(x[0]*x[1])*x[0])\n",
    "    DFx[1][0] = x[1]\n",
    "    DFx[1][1] = x[0]\n",
    "    return DFx\n",
    "\n",
    "def F(x):\n",
    "    f1 = x[0]**2+x[1]**2\n",
    "    f2 = x[0]+x[1]\n",
    "    Fx = np.array([f1,f2])\n",
    "    return Fx\n",
    "\n",
    "def DF(x):\n",
    "    DFx = np.zeros((2,2))\n",
    "    DFx[0][0] = 2.0*x[0]\n",
    "    DFx[0][1] = 2.0*x[1]\n",
    "    DFx[1][0] = 1.0\n",
    "    DFx[1][1] = 1.0\n",
    "    return DFx\n",
    "\n",
    "def mvnewtonmethod(F,DF,x0,N,TOL):\n",
    "    F0 = F(x0)\n",
    "    DF0 = DF(x0)\n",
    "    s = np.linalg.solve(DF0,F0)\n",
    "    x1 = x0 - s\n",
    "    i = 0\n",
    "    while((np.linalg.norm(x1-x0)>TOL)and(i<N)):\n",
    "        x0 = x1\n",
    "        F0 = F(x0)\n",
    "        DF0 = DF(x0)\n",
    "        s = np.linalg.solve(DF0,F0)\n",
    "        x1 = x0 - s\n",
    "        i = i+1\n",
    "        print(x1)\n",
    "    return x1,i\n",
    "\n",
    "x0 = np.array([2.1,-.1])\n",
    "print(mvnewtonmethod(F,DF,x0,50,0.000001))"
   ]
  },
  {
   "cell_type": "code",
   "execution_count": null,
   "metadata": {
    "collapsed": true
   },
   "outputs": [],
   "source": []
  }
 ],
 "metadata": {
  "kernelspec": {
   "display_name": "Python 2",
   "language": "python",
   "name": "python2"
  },
  "language_info": {
   "codemirror_mode": {
    "name": "ipython",
    "version": 2
   },
   "file_extension": ".py",
   "mimetype": "text/x-python",
   "name": "python",
   "nbconvert_exporter": "python",
   "pygments_lexer": "ipython2",
   "version": "2.7.13"
  }
 },
 "nbformat": 4,
 "nbformat_minor": 0
}
